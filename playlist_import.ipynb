{
  "cells": [
    {
      "cell_type": "markdown",
      "metadata": {
        "colab_type": "text",
        "id": "view-in-github"
      },
      "source": [
        "<a href=\"https://colab.research.google.com/github/crispianm/MDM3-UKCRIC/blob/main/TestingDNNs.ipynb\" target=\"_parent\"><img src=\"https://colab.research.google.com/assets/colab-badge.svg\" alt=\"Open In Colab\"/></a>"
      ]
    },
    {
      "cell_type": "code",
      "execution_count": 41,
      "metadata": {},
      "outputs": [
        {
          "data": {
            "text/plain": [
              "['1LYipMFKz8X6fNU7RJvvVW',\n",
              " '3rnBqIIoxOpQ0p9BeW3NT4',\n",
              " '26AuyrZGzWWiYZPSd3XBIg',\n",
              " '6JsfvqClYnc2R5yZ67C2ch',\n",
              " '0KQh7AuuZvpTKWhcJa8Pbr',\n",
              " '2DI0fZ4QZmLtapszYaoG6F',\n",
              " '77Dn6Y5SzjCzfXLjy89dYB',\n",
              " '5y2K7jr9M8t1HRAu9jzssT',\n",
              " '22jEGuVPtvtMqKPuXdOVCh',\n",
              " '3js9UOPVsguIDI2WyycfRJ']"
            ]
          },
          "execution_count": 41,
          "metadata": {},
          "output_type": "execute_result"
        }
      ],
      "source": [
        "from configparser import ConfigParser\n",
        "import spotipy\n",
        "import sys\n",
        "from spotipy.oauth2 import SpotifyClientCredentials\n",
        "import pandas as pd\n",
        "import numpy as np\n",
        "\n",
        "parser = ConfigParser()\n",
        "parser.read('./spotify_credentials.cfg')\n",
        "\n",
        "SPOTIPY_CLIENT_ID = parser.get('spotify', 'SPOTIPY_CLIENT_ID')\n",
        "SPOTIPY_CLIENT_SECRET = parser.get('spotify', 'SPOTIPY_CLIENT_SECRET')\n",
        "\n",
        "sp = spotipy.Spotify(client_credentials_manager=SpotifyClientCredentials(client_id=SPOTIPY_CLIENT_ID, client_secret=SPOTIPY_CLIENT_SECRET))\n",
        "\n",
        "user_id = 'czdoifmfngjhvoetavlok9dg5'\n",
        "playlists = sp.user_playlists(user_id)\n",
        "playlists = playlists['items']\n",
        "\n",
        "# for playlist in playlists:\n",
        "    # print(playlist['id'])\n",
        "\n",
        "playlist_id = '3YwPUeHZqBrFzLzP5BF8ND'\n",
        "\n",
        "results = sp.playlist_tracks(playlist_id)\n",
        "tracks = results['items']\n",
        "track_ids = []\n",
        "for track in tracks:\n",
        "    track_ids.append(track['track']['id'])\n",
        "track_ids"
      ]
    },
    {
      "cell_type": "code",
      "execution_count": 42,
      "metadata": {},
      "outputs": [],
      "source": [
        "columns_to_remove = ['analysis_url', 'type', 'uri', 'track_href']\n",
        "headings = ['danceability',\n",
        "'energy',\n",
        "'key',\n",
        "'loudness',\n",
        "'mode',\n",
        "'speechiness',\n",
        "'acousticness',\n",
        "'instrumentalness',\n",
        "'liveness',\n",
        "'valence',\n",
        "'tempo',\n",
        "'id',\n",
        "'duration_ms',\n",
        "'time_signature',\n",
        "'track_title',\n",
        "'album_title',\n",
        "'album_artist',\n",
        "'track_number',\n",
        "'total_tracks']\n",
        "playlist_data = pd.DataFrame(columns=headings)\n",
        "\n",
        "playlist_length = len(track_ids)\n",
        "\n",
        "i = 0\n",
        "for track in track_ids:\n",
        "    results = sp.audio_features(track)\n",
        "    if results[0]: \n",
        "        features = results[0]\n",
        "    \n",
        "    features_matrix = pd.DataFrame.from_records(features, index=[0])\n",
        "    \n",
        "    # Remove unneeded columns\n",
        "    features_matrix.drop(columns = columns_to_remove, axis = 1, inplace = True)\n",
        "    # print(features_matrix)\n",
        "\n",
        "    # Add track title\n",
        "    track_title = tracks[i]['track']['name']\n",
        "    features_matrix['track_title'] = track_title\n",
        "\n",
        "    # Add album title\n",
        "    album_title = tracks[i]['track']['album']['name']\n",
        "    features_matrix['album_title'] = album_title\n",
        "\n",
        "    # Add artist name\n",
        "    name = tracks[i]['track']['album']['artists'][0]['name']\n",
        "    features_matrix['album_artist'] = name\n",
        "\n",
        "    # Add track number and total tracks\n",
        "    features_matrix['track_number'] = 0\n",
        "    features_matrix['total_tracks'] = playlist_length\n",
        "\n",
        "    # Add album as a row to the data df\n",
        "    # print(features_matrix,'\\n')\n",
        "    # print(data)\n",
        "    \n",
        "    playlist_data = pd.concat([playlist_data, features_matrix])\n",
        "    i += 1\n",
        "\n",
        "playlist_data = playlist_data.reset_index(drop=True)\n",
        "playlist_data.to_csv('./data/playlist_data.csv')"
      ]
    },
    {
      "cell_type": "code",
      "execution_count": 43,
      "metadata": {},
      "outputs": [
        {
          "data": {
            "text/plain": [
              "{'snapshot_id': 'MjMsYmRhOTQwMjA0Yzc0MmVhYjRjODgzN2E2NmRhYjY2MDJiYjUwYzA5YQ=='}"
            ]
          },
          "execution_count": 43,
          "metadata": {},
          "output_type": "execute_result"
        }
      ],
      "source": [
        "import random\n",
        "random_order = random.sample(range(playlist_length), playlist_length)\n",
        "\n",
        "# use model here\n",
        "playlist_data['track_number'] = random_order\n",
        "playlist_data = playlist_data.sort_values(by=['track_number'])\n",
        "\n",
        "sorted_ids = list(playlist_data['id'])\n",
        "\n",
        "# rearrange\n",
        "from spotipy.oauth2 import SpotifyOAuth\n",
        "\n",
        "scope = \"playlist-modify-public\"\n",
        "\n",
        "sp = spotipy.Spotify(auth_manager=SpotifyOAuth(scope=scope,redirect_uri='http://localhost:5678/',client_id=SPOTIPY_CLIENT_ID, client_secret=SPOTIPY_CLIENT_SECRET))\n",
        "\n",
        "UPDATED_PLAYLIST = sp.playlist_replace_items(playlist_id,sorted_ids)\n",
        "UPDATED_PLAYLIST"
      ]
    },
    {
      "cell_type": "code",
      "execution_count": 4,
      "metadata": {},
      "outputs": [
        {
          "name": "stdout",
          "output_type": "stream",
          "text": [
            "0 Kate Rusby  –  Fare Thee Well\n",
            "1 Lady Maisery  –  The Old Churchyard\n",
            "2 Kate Rusby  –  I'll Be Wise\n",
            "3 Kate Rusby  –  The Ardent Shepherdess\n",
            "4 Kate Rusby  –  Hunter Moon\n",
            "5 Kate Rusby  –  Benjamin Bowmaneer\n",
            "6 Jon Boden  –  All the Stars Are Coming Out Tonight\n",
            "7 Seth Lakeman  –  Lady Of The Sea (Hear Her Calling) - New Radio Version\n",
            "8 Jon Boden  –  How Long Will I Love You\n",
            "9 Gilmore & Roberts  –  Punch & Chase\n"
          ]
        }
      ],
      "source": [
        "# import spotipy\n",
        "# from spotipy.oauth2 import SpotifyOAuth\n",
        "\n",
        "# scope = \"user-library-read\"\n",
        "\n",
        "# sp = spotipy.Spotify(auth_manager=SpotifyOAuth(scope=scope, redirect_uri='http://localhost:5678/',client_id=SPOTIPY_CLIENT_ID, client_secret=SPOTIPY_CLIENT_SECRET))\n",
        "\n",
        "# results = sp.current_user_saved_tracks()\n",
        "# for idx, item in enumerate(results['items']):\n",
        "#     track = item['track']\n",
        "#     print(idx, track['artists'][0]['name'], \" – \", track['name'])"
      ]
    },
    {
      "cell_type": "code",
      "execution_count": null,
      "metadata": {},
      "outputs": [],
      "source": []
    }
  ],
  "metadata": {
    "colab": {
      "authorship_tag": "ABX9TyP5hCxOXwciEMhpBDw9LkHy",
      "include_colab_link": true,
      "name": "TestingDNNs.ipynb",
      "provenance": []
    },
    "kernelspec": {
      "display_name": "Python 3",
      "name": "python3"
    },
    "language_info": {
      "codemirror_mode": {
        "name": "ipython",
        "version": 3
      },
      "file_extension": ".py",
      "mimetype": "text/x-python",
      "name": "python",
      "nbconvert_exporter": "python",
      "pygments_lexer": "ipython3",
      "version": "3.9.10"
    }
  },
  "nbformat": 4,
  "nbformat_minor": 0
}
