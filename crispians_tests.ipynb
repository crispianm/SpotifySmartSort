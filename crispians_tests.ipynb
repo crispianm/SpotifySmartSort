{
 "cells": [
  {
   "cell_type": "code",
   "execution_count": 46,
   "metadata": {},
   "outputs": [
    {
     "name": "stdout",
     "output_type": "stream",
     "text": [
      "Getting timbre for: 3js9UOPVsguIDI2WyycfRJ\n",
      "Timbre obtained.\n",
      "\n",
      "Getting timbre for: 26AuyrZGzWWiYZPSd3XBIg\n",
      "Timbre obtained.\n",
      "\n",
      "Getting timbre for: 3rnBqIIoxOpQ0p9BeW3NT4\n",
      "Timbre obtained.\n",
      "\n",
      "Getting timbre for: 22jEGuVPtvtMqKPuXdOVCh\n",
      "Timbre obtained.\n",
      "\n",
      "Getting timbre for: 77Dn6Y5SzjCzfXLjy89dYB\n",
      "Timbre obtained.\n",
      "\n",
      "Getting timbre for: 5y2K7jr9M8t1HRAu9jzssT\n",
      "Timbre obtained.\n",
      "\n",
      "Getting timbre for: 6JsfvqClYnc2R5yZ67C2ch\n",
      "Timbre obtained.\n",
      "\n",
      "Getting timbre for: 2DI0fZ4QZmLtapszYaoG6F\n",
      "Timbre obtained.\n",
      "\n",
      "Getting timbre for: 1LYipMFKz8X6fNU7RJvvVW\n",
      "Timbre obtained.\n",
      "\n",
      "Getting timbre for: 0KQh7AuuZvpTKWhcJa8Pbr\n",
      "Timbre obtained.\n",
      "\n"
     ]
    }
   ],
   "source": [
    "from configparser import ConfigParser\n",
    "import spotipy\n",
    "from spotipy.oauth2 import SpotifyClientCredentials\n",
    "import pandas as pd\n",
    "import numpy as np\n",
    "import pickle\n",
    "from sklearn.preprocessing import MinMaxScaler\n",
    "from get_timbre import get_timbre\n",
    "from evaluation import evaluate_data\n",
    "\n",
    "\n",
    "parser = ConfigParser()\n",
    "parser.read('./spotify_credentials.cfg')\n",
    "\n",
    "SPOTIPY_CLIENT_ID = parser.get('spotify', 'SPOTIPY_CLIENT_ID')\n",
    "SPOTIPY_CLIENT_SECRET = parser.get('spotify', 'SPOTIPY_CLIENT_SECRET')\n",
    "\n",
    "sp = spotipy.Spotify(client_credentials_manager=SpotifyClientCredentials(client_id=SPOTIPY_CLIENT_ID, client_secret=SPOTIPY_CLIENT_SECRET))\n",
    "\n",
    "user_id = 'czdoifmfngjhvoetavlok9dg5'\n",
    "playlists = sp.user_playlists(user_id)\n",
    "playlists = playlists['items']\n",
    "\n",
    "\n",
    "\n",
    "\n",
    "\n",
    "playlist_id = '3YwPUeHZqBrFzLzP5BF8ND'\n",
    "\n",
    "\n",
    "\n",
    "\n",
    "\n",
    "results = sp.playlist_tracks(playlist_id)\n",
    "tracks = results['items']\n",
    "track_ids = []\n",
    "for track in tracks:\n",
    "    track_ids.append(track['track']['id'])\n",
    "track_ids\n",
    "\n",
    "columns_to_remove = ['analysis_url', 'type', 'uri', 'track_href']\n",
    "headings = ['danceability',\n",
    "'energy',\n",
    "'key',\n",
    "'loudness',\n",
    "'mode',\n",
    "'speechiness',\n",
    "'acousticness',\n",
    "'instrumentalness',\n",
    "'liveness',\n",
    "'valence',\n",
    "'tempo',\n",
    "'id',\n",
    "'duration_ms',\n",
    "'time_signature',\n",
    "'track_title',\n",
    "'album_title',\n",
    "'album_artist',\n",
    "'track_number',\n",
    "'total_tracks']\n",
    "\n",
    "playlist_data = pd.DataFrame(columns=headings)\n",
    "\n",
    "playlist_length = len(track_ids)\n",
    "\n",
    "i = 0\n",
    "for track in track_ids:\n",
    "    results = sp.audio_features(track)\n",
    "    if results[0]: \n",
    "        features = results[0]\n",
    "    \n",
    "    features_matrix = pd.DataFrame.from_records(features, index=[0])\n",
    "    \n",
    "    # Remove unneeded columns\n",
    "    features_matrix.drop(columns = columns_to_remove, axis = 1, inplace = True)\n",
    "    # print(features_matrix)\n",
    "\n",
    "    # Add track title\n",
    "    track_title = tracks[i]['track']['name']\n",
    "    features_matrix['track_title'] = track_title\n",
    "\n",
    "    # Add album title\n",
    "    album_title = tracks[i]['track']['album']['name']\n",
    "    features_matrix['album_title'] = album_title\n",
    "\n",
    "    # Add artist name\n",
    "    name = tracks[i]['track']['album']['artists'][0]['name']\n",
    "    features_matrix['album_artist'] = name\n",
    "\n",
    "    # Add track number and total tracks\n",
    "    features_matrix['track_number'] = tracks[i]['track']['track_number']\n",
    "    features_matrix['total_tracks'] = playlist_length\n",
    "\n",
    "    # Add album as a row to the data df\n",
    "    # print(features_matrix,'\\n') \n",
    "\n",
    "    playlist_data = pd.concat([playlist_data, features_matrix])\n",
    "    i += 1\n",
    "\n",
    "playlist_data = playlist_data.reset_index(drop=True)\n",
    "# playlist_data.to_csv('./data/playlist_data.csv')\n",
    "playlist_data_full = pd.DataFrame(playlist_data)\n",
    "\n",
    "timbre = pd.DataFrame(columns = ['song_timbre', 'song_timbre_start', 'song_timbre_end', 'loudness_start', 'loudness_end'])\n",
    "\n",
    "i = 0\n",
    "for track in track_ids:\n",
    "    print('Getting timbre for: '+ track)\n",
    "    track_timbre = get_timbre(track, playlist_data_full)\n",
    "    timbre = pd.concat([timbre, track_timbre], axis=0)\n",
    "    print('Timbre obtained.\\n')\n",
    "\n",
    "# playlist_data = pd.concat([playlist_data, timbre], axis=0)\n",
    "timbre = timbre.reset_index(drop=True)\n",
    "\n",
    "playlist_data = pd.concat([playlist_data, timbre], axis=1)\n",
    "\n",
    "\n",
    "\n",
    "# Remove unnecessary testing columns\n",
    "columns_to_remove = ['id',\n",
    "                    'track_title',\n",
    "                    'album_title',\n",
    "                    'album_artist',\n",
    "                    'track_number',\n",
    "                    'total_tracks',\n",
    "                    'key',\n",
    "                    'mode',\n",
    "                    'duration_ms',\n",
    "                    'time_signature']\n",
    "playlist_data.drop(columns = columns_to_remove, axis = 1, inplace = True)"
   ]
  },
  {
   "cell_type": "code",
   "execution_count": 50,
   "metadata": {},
   "outputs": [
    {
     "data": {
      "text/plain": [
       "[0.4, 0.2, 0.1, 0.0, 0.3, 0.0, 0.1, 0.0, 0.1]"
      ]
     },
     "execution_count": 50,
     "metadata": {},
     "output_type": "execute_result"
    }
   ],
   "source": [
    "from evaluation import evaluate_data\n",
    "\n",
    "original_order_eval = evaluate_data(playlist_data_full)\n",
    "original_order_eval"
   ]
  },
  {
   "cell_type": "code",
   "execution_count": null,
   "metadata": {},
   "outputs": [],
   "source": [
    "## Load trained model\n",
    "model = pickle.load(open('./regression/random_forest.sav', 'rb')) # change to whichever model we want to use\n",
    "playlist_data_full['order'] = model.predict(playlist_data.values)\n",
    "playlist_data_full = playlist_data_full.sort_values(by=['order'])\n",
    "playlist_data_full['order'] = np.arange(1, playlist_data_full.shape[0]+1) # convert order to integer playlist track number\n",
    "playlist_data_full"
   ]
  },
  {
   "cell_type": "code",
   "execution_count": 54,
   "metadata": {},
   "outputs": [
    {
     "name": "stdout",
     "output_type": "stream",
     "text": [
      "[0.2, 0.3, 0.1, 0.2, 0.1, 0.1, 0.0, 0.1, 0.1]\n"
     ]
    },
    {
     "data": {
      "text/plain": [
       "matrix([[-0.2,  0.1,  0. ,  0.2, -0.2,  0.1, -0.1,  0.1,  0. ]])"
      ]
     },
     "execution_count": 54,
     "metadata": {},
     "output_type": "execute_result"
    }
   ],
   "source": [
    "from numpy import matrix\n",
    "\n",
    "sorted_order_eval = evaluate_data(playlist_data_full)\n",
    "print(sorted_order_eval)\n",
    "current = matrix(sorted_order_eval)\n",
    "previous = matrix(original_order_eval)\n",
    "(current - previous) # change"
   ]
  },
  {
   "cell_type": "code",
   "execution_count": 40,
   "metadata": {},
   "outputs": [
    {
     "data": {
      "text/plain": [
       "0.4"
      ]
     },
     "execution_count": 40,
     "metadata": {},
     "output_type": "execute_result"
    }
   ],
   "source": []
  },
  {
   "cell_type": "code",
   "execution_count": 45,
   "metadata": {},
   "outputs": [
    {
     "data": {
      "text/plain": [
       "27.1"
      ]
     },
     "execution_count": 45,
     "metadata": {},
     "output_type": "execute_result"
    }
   ],
   "source": [
    "from sklearn.metrics import mean_squared_error\n",
    "y_true = playlist_data_full['track_number']\n",
    "y_pred = playlist_data_full['order']\n",
    "mean_squared_error(y_true, y_pred)"
   ]
  },
  {
   "cell_type": "markdown",
   "metadata": {},
   "source": [
    "Rearrange"
   ]
  },
  {
   "cell_type": "code",
   "execution_count": 7,
   "metadata": {},
   "outputs": [
    {
     "name": "stderr",
     "output_type": "stream",
     "text": [
      "HTTP Error for PUT to https://api.spotify.com/v1/playlists/3YwPUeHZqBrFzLzP5BF8ND/tracks with Params: {} returned 403 due to User not registered in the Developer Dashboard\n"
     ]
    },
    {
     "ename": "SpotifyException",
     "evalue": "http status: 403, code:-1 - https://api.spotify.com/v1/playlists/3YwPUeHZqBrFzLzP5BF8ND/tracks:\n User not registered in the Developer Dashboard, reason: None",
     "output_type": "error",
     "traceback": [
      "\u001b[1;31m---------------------------------------------------------------------------\u001b[0m",
      "\u001b[1;31mHTTPError\u001b[0m                                 Traceback (most recent call last)",
      "\u001b[1;32m~\\anaconda3\\envs\\AI\\lib\\site-packages\\spotipy\\client.py\u001b[0m in \u001b[0;36m_internal_call\u001b[1;34m(self, method, url, payload, params)\u001b[0m\n\u001b[0;32m    244\u001b[0m \u001b[1;33m\u001b[0m\u001b[0m\n\u001b[1;32m--> 245\u001b[1;33m             \u001b[0mresponse\u001b[0m\u001b[1;33m.\u001b[0m\u001b[0mraise_for_status\u001b[0m\u001b[1;33m(\u001b[0m\u001b[1;33m)\u001b[0m\u001b[1;33m\u001b[0m\u001b[1;33m\u001b[0m\u001b[0m\n\u001b[0m\u001b[0;32m    246\u001b[0m             \u001b[0mresults\u001b[0m \u001b[1;33m=\u001b[0m \u001b[0mresponse\u001b[0m\u001b[1;33m.\u001b[0m\u001b[0mjson\u001b[0m\u001b[1;33m(\u001b[0m\u001b[1;33m)\u001b[0m\u001b[1;33m\u001b[0m\u001b[1;33m\u001b[0m\u001b[0m\n",
      "\u001b[1;32m~\\anaconda3\\envs\\AI\\lib\\site-packages\\requests\\models.py\u001b[0m in \u001b[0;36mraise_for_status\u001b[1;34m(self)\u001b[0m\n\u001b[0;32m    959\u001b[0m         \u001b[1;32mif\u001b[0m \u001b[0mhttp_error_msg\u001b[0m\u001b[1;33m:\u001b[0m\u001b[1;33m\u001b[0m\u001b[1;33m\u001b[0m\u001b[0m\n\u001b[1;32m--> 960\u001b[1;33m             \u001b[1;32mraise\u001b[0m \u001b[0mHTTPError\u001b[0m\u001b[1;33m(\u001b[0m\u001b[0mhttp_error_msg\u001b[0m\u001b[1;33m,\u001b[0m \u001b[0mresponse\u001b[0m\u001b[1;33m=\u001b[0m\u001b[0mself\u001b[0m\u001b[1;33m)\u001b[0m\u001b[1;33m\u001b[0m\u001b[1;33m\u001b[0m\u001b[0m\n\u001b[0m\u001b[0;32m    961\u001b[0m \u001b[1;33m\u001b[0m\u001b[0m\n",
      "\u001b[1;31mHTTPError\u001b[0m: 403 Client Error: Forbidden for url: https://api.spotify.com/v1/playlists/3YwPUeHZqBrFzLzP5BF8ND/tracks",
      "\nDuring handling of the above exception, another exception occurred:\n",
      "\u001b[1;31mSpotifyException\u001b[0m                          Traceback (most recent call last)",
      "\u001b[1;32m~\\AppData\\Local\\Temp/ipykernel_2896/1262710123.py\u001b[0m in \u001b[0;36m<module>\u001b[1;34m\u001b[0m\n\u001b[0;32m      8\u001b[0m \u001b[0msorted_ids\u001b[0m \u001b[1;33m=\u001b[0m \u001b[0mlist\u001b[0m\u001b[1;33m(\u001b[0m\u001b[0mplaylist_data_full\u001b[0m\u001b[1;33m[\u001b[0m\u001b[1;34m'id'\u001b[0m\u001b[1;33m]\u001b[0m\u001b[1;33m)\u001b[0m\u001b[1;33m\u001b[0m\u001b[1;33m\u001b[0m\u001b[0m\n\u001b[0;32m      9\u001b[0m \u001b[1;33m\u001b[0m\u001b[0m\n\u001b[1;32m---> 10\u001b[1;33m \u001b[0mUPDATED_PLAYLIST\u001b[0m \u001b[1;33m=\u001b[0m \u001b[0msp\u001b[0m\u001b[1;33m.\u001b[0m\u001b[0mplaylist_replace_items\u001b[0m\u001b[1;33m(\u001b[0m\u001b[0mplaylist_id\u001b[0m\u001b[1;33m,\u001b[0m\u001b[0msorted_ids\u001b[0m\u001b[1;33m)\u001b[0m\u001b[1;33m\u001b[0m\u001b[1;33m\u001b[0m\u001b[0m\n\u001b[0m\u001b[0;32m     11\u001b[0m \u001b[0mUPDATED_PLAYLIST\u001b[0m\u001b[1;33m\u001b[0m\u001b[1;33m\u001b[0m\u001b[0m\n",
      "\u001b[1;32m~\\anaconda3\\envs\\AI\\lib\\site-packages\\spotipy\\client.py\u001b[0m in \u001b[0;36mplaylist_replace_items\u001b[1;34m(self, playlist_id, items)\u001b[0m\n\u001b[0;32m   1045\u001b[0m         \u001b[0mftracks\u001b[0m \u001b[1;33m=\u001b[0m \u001b[1;33m[\u001b[0m\u001b[0mself\u001b[0m\u001b[1;33m.\u001b[0m\u001b[0m_get_uri\u001b[0m\u001b[1;33m(\u001b[0m\u001b[1;34m\"track\"\u001b[0m\u001b[1;33m,\u001b[0m \u001b[0mtid\u001b[0m\u001b[1;33m)\u001b[0m \u001b[1;32mfor\u001b[0m \u001b[0mtid\u001b[0m \u001b[1;32min\u001b[0m \u001b[0mitems\u001b[0m\u001b[1;33m]\u001b[0m\u001b[1;33m\u001b[0m\u001b[1;33m\u001b[0m\u001b[0m\n\u001b[0;32m   1046\u001b[0m         \u001b[0mpayload\u001b[0m \u001b[1;33m=\u001b[0m \u001b[1;33m{\u001b[0m\u001b[1;34m\"uris\"\u001b[0m\u001b[1;33m:\u001b[0m \u001b[0mftracks\u001b[0m\u001b[1;33m}\u001b[0m\u001b[1;33m\u001b[0m\u001b[1;33m\u001b[0m\u001b[0m\n\u001b[1;32m-> 1047\u001b[1;33m         return self._put(\n\u001b[0m\u001b[0;32m   1048\u001b[0m             \u001b[1;34m\"playlists/%s/tracks\"\u001b[0m \u001b[1;33m%\u001b[0m \u001b[1;33m(\u001b[0m\u001b[0mplid\u001b[0m\u001b[1;33m)\u001b[0m\u001b[1;33m,\u001b[0m \u001b[0mpayload\u001b[0m\u001b[1;33m=\u001b[0m\u001b[0mpayload\u001b[0m\u001b[1;33m\u001b[0m\u001b[1;33m\u001b[0m\u001b[0m\n\u001b[0;32m   1049\u001b[0m         )\n",
      "\u001b[1;32m~\\anaconda3\\envs\\AI\\lib\\site-packages\\spotipy\\client.py\u001b[0m in \u001b[0;36m_put\u001b[1;34m(self, url, args, payload, **kwargs)\u001b[0m\n\u001b[0;32m    310\u001b[0m         \u001b[1;32mif\u001b[0m \u001b[0margs\u001b[0m\u001b[1;33m:\u001b[0m\u001b[1;33m\u001b[0m\u001b[1;33m\u001b[0m\u001b[0m\n\u001b[0;32m    311\u001b[0m             \u001b[0mkwargs\u001b[0m\u001b[1;33m.\u001b[0m\u001b[0mupdate\u001b[0m\u001b[1;33m(\u001b[0m\u001b[0margs\u001b[0m\u001b[1;33m)\u001b[0m\u001b[1;33m\u001b[0m\u001b[1;33m\u001b[0m\u001b[0m\n\u001b[1;32m--> 312\u001b[1;33m         \u001b[1;32mreturn\u001b[0m \u001b[0mself\u001b[0m\u001b[1;33m.\u001b[0m\u001b[0m_internal_call\u001b[0m\u001b[1;33m(\u001b[0m\u001b[1;34m\"PUT\"\u001b[0m\u001b[1;33m,\u001b[0m \u001b[0murl\u001b[0m\u001b[1;33m,\u001b[0m \u001b[0mpayload\u001b[0m\u001b[1;33m,\u001b[0m \u001b[0mkwargs\u001b[0m\u001b[1;33m)\u001b[0m\u001b[1;33m\u001b[0m\u001b[1;33m\u001b[0m\u001b[0m\n\u001b[0m\u001b[0;32m    313\u001b[0m \u001b[1;33m\u001b[0m\u001b[0m\n\u001b[0;32m    314\u001b[0m     \u001b[1;32mdef\u001b[0m \u001b[0mnext\u001b[0m\u001b[1;33m(\u001b[0m\u001b[0mself\u001b[0m\u001b[1;33m,\u001b[0m \u001b[0mresult\u001b[0m\u001b[1;33m)\u001b[0m\u001b[1;33m:\u001b[0m\u001b[1;33m\u001b[0m\u001b[1;33m\u001b[0m\u001b[0m\n",
      "\u001b[1;32m~\\anaconda3\\envs\\AI\\lib\\site-packages\\spotipy\\client.py\u001b[0m in \u001b[0;36m_internal_call\u001b[1;34m(self, method, url, payload, params)\u001b[0m\n\u001b[0;32m    265\u001b[0m             )\n\u001b[0;32m    266\u001b[0m \u001b[1;33m\u001b[0m\u001b[0m\n\u001b[1;32m--> 267\u001b[1;33m             raise SpotifyException(\n\u001b[0m\u001b[0;32m    268\u001b[0m                 \u001b[0mresponse\u001b[0m\u001b[1;33m.\u001b[0m\u001b[0mstatus_code\u001b[0m\u001b[1;33m,\u001b[0m\u001b[1;33m\u001b[0m\u001b[1;33m\u001b[0m\u001b[0m\n\u001b[0;32m    269\u001b[0m                 \u001b[1;33m-\u001b[0m\u001b[1;36m1\u001b[0m\u001b[1;33m,\u001b[0m\u001b[1;33m\u001b[0m\u001b[1;33m\u001b[0m\u001b[0m\n",
      "\u001b[1;31mSpotifyException\u001b[0m: http status: 403, code:-1 - https://api.spotify.com/v1/playlists/3YwPUeHZqBrFzLzP5BF8ND/tracks:\n User not registered in the Developer Dashboard, reason: None"
     ]
    }
   ],
   "source": [
    "# get permissions to rearrange\n",
    "from spotipy.oauth2 import SpotifyOAuth\n",
    "scope = \"playlist-modify-public\"\n",
    "sp = spotipy.Spotify(auth_manager=SpotifyOAuth(scope=scope,redirect_uri='http://localhost:5678/',client_id=SPOTIPY_CLIENT_ID, client_secret=SPOTIPY_CLIENT_SECRET))\n",
    "\n",
    "\n",
    "# rearrange\n",
    "sorted_ids = list(playlist_data_full['id'])\n",
    "\n",
    "UPDATED_PLAYLIST = sp.playlist_replace_items(playlist_id,sorted_ids)\n",
    "UPDATED_PLAYLIST"
   ]
  },
  {
   "cell_type": "code",
   "execution_count": null,
   "metadata": {},
   "outputs": [],
   "source": []
  }
 ],
 "metadata": {
  "interpreter": {
   "hash": "5ce67bb6f49e5a3a5e8242f865d588f7cfc783cd45e0a7fc178d0bf7c5dca7df"
  },
  "kernelspec": {
   "display_name": "Python 3.9.10 ('AI_general')",
   "language": "python",
   "name": "python3"
  },
  "language_info": {
   "codemirror_mode": {
    "name": "ipython",
    "version": 3
   },
   "file_extension": ".py",
   "mimetype": "text/x-python",
   "name": "python",
   "nbconvert_exporter": "python",
   "pygments_lexer": "ipython3",
   "version": "3.9.7"
  },
  "orig_nbformat": 4
 },
 "nbformat": 4,
 "nbformat_minor": 2
}
