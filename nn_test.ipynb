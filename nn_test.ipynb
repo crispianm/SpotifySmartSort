{
  "cells": [
    {
      "cell_type": "markdown",
      "metadata": {
        "colab_type": "text",
        "id": "view-in-github"
      },
      "source": [
        "<a href=\"https://colab.research.google.com/github/crispianm/MDM3-UKCRIC/blob/main/TestingDNNs.ipynb\" target=\"_parent\"><img src=\"https://colab.research.google.com/assets/colab-badge.svg\" alt=\"Open In Colab\"/></a>"
      ]
    },
    {
      "cell_type": "code",
      "execution_count": 1,
      "metadata": {
        "id": "gifiwVRpyh-g"
      },
      "outputs": [],
      "source": [
        "import numpy as np\n",
        "import matplotlib.pyplot as plt\n",
        "from tensorflow.keras.models import Sequential\n",
        "from tensorflow.keras.layers import Dense, Conv1D, MaxPooling1D, Flatten\n",
        "from tensorflow.keras.optimizers import SGD, Adam\n",
        "from tensorflow.keras.utils import to_categorical\n",
        "import pandas as pd\n",
        "import os \n",
        "import sys\n",
        "from sklearn.model_selection import train_test_split\n",
        "from sklearn.decomposition import PCA\n",
        "from sklearn import preprocessing\n"
      ]
    },
    {
      "cell_type": "code",
      "execution_count": 2,
      "metadata": {
        "colab": {
          "base_uri": "https://localhost:8080/"
        },
        "id": "613JO7erysnn",
        "outputId": "d4f5797c-100d-4265-dbf9-2db9c6782ac4"
      },
      "outputs": [
        {
          "data": {
            "text/html": [
              "<div>\n",
              "<style scoped>\n",
              "    .dataframe tbody tr th:only-of-type {\n",
              "        vertical-align: middle;\n",
              "    }\n",
              "\n",
              "    .dataframe tbody tr th {\n",
              "        vertical-align: top;\n",
              "    }\n",
              "\n",
              "    .dataframe thead th {\n",
              "        text-align: right;\n",
              "    }\n",
              "</style>\n",
              "<table border=\"1\" class=\"dataframe\">\n",
              "  <thead>\n",
              "    <tr style=\"text-align: right;\">\n",
              "      <th></th>\n",
              "      <th>danceability</th>\n",
              "      <th>energy</th>\n",
              "      <th>key</th>\n",
              "      <th>mode</th>\n",
              "      <th>speechiness</th>\n",
              "      <th>acousticness</th>\n",
              "      <th>instrumentalness</th>\n",
              "      <th>liveness</th>\n",
              "      <th>valence</th>\n",
              "      <th>tempo</th>\n",
              "      <th>duration_ms</th>\n",
              "      <th>time_signature</th>\n",
              "    </tr>\n",
              "  </thead>\n",
              "  <tbody>\n",
              "    <tr>\n",
              "      <th>0</th>\n",
              "      <td>0.788</td>\n",
              "      <td>0.616</td>\n",
              "      <td>9</td>\n",
              "      <td>0</td>\n",
              "      <td>0.0337</td>\n",
              "      <td>0.00286</td>\n",
              "      <td>0.549000</td>\n",
              "      <td>0.0952</td>\n",
              "      <td>0.6960</td>\n",
              "      <td>119.037</td>\n",
              "      <td>275387</td>\n",
              "      <td>4</td>\n",
              "    </tr>\n",
              "    <tr>\n",
              "      <th>1</th>\n",
              "      <td>0.712</td>\n",
              "      <td>0.500</td>\n",
              "      <td>9</td>\n",
              "      <td>0</td>\n",
              "      <td>0.0338</td>\n",
              "      <td>0.82500</td>\n",
              "      <td>0.314000</td>\n",
              "      <td>0.1060</td>\n",
              "      <td>0.6820</td>\n",
              "      <td>90.039</td>\n",
              "      <td>322147</td>\n",
              "      <td>4</td>\n",
              "    </tr>\n",
              "    <tr>\n",
              "      <th>2</th>\n",
              "      <td>0.740</td>\n",
              "      <td>0.682</td>\n",
              "      <td>9</td>\n",
              "      <td>0</td>\n",
              "      <td>0.0504</td>\n",
              "      <td>0.06920</td>\n",
              "      <td>0.530000</td>\n",
              "      <td>0.3810</td>\n",
              "      <td>0.4100</td>\n",
              "      <td>113.201</td>\n",
              "      <td>544627</td>\n",
              "      <td>4</td>\n",
              "    </tr>\n",
              "    <tr>\n",
              "      <th>3</th>\n",
              "      <td>0.702</td>\n",
              "      <td>0.297</td>\n",
              "      <td>10</td>\n",
              "      <td>0</td>\n",
              "      <td>0.0317</td>\n",
              "      <td>0.89400</td>\n",
              "      <td>0.485000</td>\n",
              "      <td>0.1030</td>\n",
              "      <td>0.0676</td>\n",
              "      <td>110.116</td>\n",
              "      <td>228507</td>\n",
              "      <td>4</td>\n",
              "    </tr>\n",
              "    <tr>\n",
              "      <th>4</th>\n",
              "      <td>0.775</td>\n",
              "      <td>0.585</td>\n",
              "      <td>10</td>\n",
              "      <td>0</td>\n",
              "      <td>0.0271</td>\n",
              "      <td>0.04220</td>\n",
              "      <td>0.619000</td>\n",
              "      <td>0.0770</td>\n",
              "      <td>0.5180</td>\n",
              "      <td>109.942</td>\n",
              "      <td>337560</td>\n",
              "      <td>4</td>\n",
              "    </tr>\n",
              "    <tr>\n",
              "      <th>...</th>\n",
              "      <td>...</td>\n",
              "      <td>...</td>\n",
              "      <td>...</td>\n",
              "      <td>...</td>\n",
              "      <td>...</td>\n",
              "      <td>...</td>\n",
              "      <td>...</td>\n",
              "      <td>...</td>\n",
              "      <td>...</td>\n",
              "      <td>...</td>\n",
              "      <td>...</td>\n",
              "      <td>...</td>\n",
              "    </tr>\n",
              "    <tr>\n",
              "      <th>4971</th>\n",
              "      <td>0.530</td>\n",
              "      <td>0.275</td>\n",
              "      <td>2</td>\n",
              "      <td>0</td>\n",
              "      <td>0.0349</td>\n",
              "      <td>0.46000</td>\n",
              "      <td>0.000011</td>\n",
              "      <td>0.0729</td>\n",
              "      <td>0.0698</td>\n",
              "      <td>133.973</td>\n",
              "      <td>271907</td>\n",
              "      <td>4</td>\n",
              "    </tr>\n",
              "    <tr>\n",
              "      <th>4972</th>\n",
              "      <td>0.490</td>\n",
              "      <td>0.495</td>\n",
              "      <td>4</td>\n",
              "      <td>0</td>\n",
              "      <td>0.0338</td>\n",
              "      <td>0.17300</td>\n",
              "      <td>0.000000</td>\n",
              "      <td>0.0794</td>\n",
              "      <td>0.2300</td>\n",
              "      <td>148.967</td>\n",
              "      <td>263667</td>\n",
              "      <td>4</td>\n",
              "    </tr>\n",
              "    <tr>\n",
              "      <th>4973</th>\n",
              "      <td>0.767</td>\n",
              "      <td>0.355</td>\n",
              "      <td>11</td>\n",
              "      <td>1</td>\n",
              "      <td>0.0445</td>\n",
              "      <td>0.14600</td>\n",
              "      <td>0.000000</td>\n",
              "      <td>0.2980</td>\n",
              "      <td>0.2880</td>\n",
              "      <td>119.992</td>\n",
              "      <td>161893</td>\n",
              "      <td>4</td>\n",
              "    </tr>\n",
              "    <tr>\n",
              "      <th>4974</th>\n",
              "      <td>0.743</td>\n",
              "      <td>0.379</td>\n",
              "      <td>1</td>\n",
              "      <td>1</td>\n",
              "      <td>0.0784</td>\n",
              "      <td>0.20700</td>\n",
              "      <td>0.196000</td>\n",
              "      <td>0.1110</td>\n",
              "      <td>0.1830</td>\n",
              "      <td>127.030</td>\n",
              "      <td>412942</td>\n",
              "      <td>4</td>\n",
              "    </tr>\n",
              "    <tr>\n",
              "      <th>4975</th>\n",
              "      <td>0.780</td>\n",
              "      <td>0.819</td>\n",
              "      <td>5</td>\n",
              "      <td>1</td>\n",
              "      <td>0.0321</td>\n",
              "      <td>0.18300</td>\n",
              "      <td>0.859000</td>\n",
              "      <td>0.0790</td>\n",
              "      <td>0.9610</td>\n",
              "      <td>109.989</td>\n",
              "      <td>420263</td>\n",
              "      <td>4</td>\n",
              "    </tr>\n",
              "  </tbody>\n",
              "</table>\n",
              "<p>4976 rows × 12 columns</p>\n",
              "</div>"
            ],
            "text/plain": [
              "      danceability  energy  key  mode  speechiness  acousticness  \\\n",
              "0            0.788   0.616    9     0       0.0337       0.00286   \n",
              "1            0.712   0.500    9     0       0.0338       0.82500   \n",
              "2            0.740   0.682    9     0       0.0504       0.06920   \n",
              "3            0.702   0.297   10     0       0.0317       0.89400   \n",
              "4            0.775   0.585   10     0       0.0271       0.04220   \n",
              "...            ...     ...  ...   ...          ...           ...   \n",
              "4971         0.530   0.275    2     0       0.0349       0.46000   \n",
              "4972         0.490   0.495    4     0       0.0338       0.17300   \n",
              "4973         0.767   0.355   11     1       0.0445       0.14600   \n",
              "4974         0.743   0.379    1     1       0.0784       0.20700   \n",
              "4975         0.780   0.819    5     1       0.0321       0.18300   \n",
              "\n",
              "      instrumentalness  liveness  valence    tempo  duration_ms  \\\n",
              "0             0.549000    0.0952   0.6960  119.037       275387   \n",
              "1             0.314000    0.1060   0.6820   90.039       322147   \n",
              "2             0.530000    0.3810   0.4100  113.201       544627   \n",
              "3             0.485000    0.1030   0.0676  110.116       228507   \n",
              "4             0.619000    0.0770   0.5180  109.942       337560   \n",
              "...                ...       ...      ...      ...          ...   \n",
              "4971          0.000011    0.0729   0.0698  133.973       271907   \n",
              "4972          0.000000    0.0794   0.2300  148.967       263667   \n",
              "4973          0.000000    0.2980   0.2880  119.992       161893   \n",
              "4974          0.196000    0.1110   0.1830  127.030       412942   \n",
              "4975          0.859000    0.0790   0.9610  109.989       420263   \n",
              "\n",
              "      time_signature  \n",
              "0                  4  \n",
              "1                  4  \n",
              "2                  4  \n",
              "3                  4  \n",
              "4                  4  \n",
              "...              ...  \n",
              "4971               4  \n",
              "4972               4  \n",
              "4973               4  \n",
              "4974               4  \n",
              "4975               4  \n",
              "\n",
              "[4976 rows x 12 columns]"
            ]
          },
          "execution_count": 2,
          "metadata": {},
          "output_type": "execute_result"
        }
      ],
      "source": [
        "#file = open('SingleSidedAmplitudeSpectrum_labelled.csv')\n",
        "#file = open('LabelledMatrixTimeDomain.csv')\n",
        "\n",
        "data = pd.read_csv(\"./data/data.csv\")\n",
        "\n",
        "# data['binary_order'] = data['track_number']%10\n",
        "order = data['track_number']/data['total_tracks']\n",
        "\n",
        "\n",
        "labels = order #data['binary_order']\n",
        "\n",
        "columns_to_remove = ['Unnamed: 0',\n",
        "                    'id',\n",
        "                    'track_title',\n",
        "                    'album_title',\n",
        "                    'album_artist',\n",
        "                    'track_number',\n",
        "                    'total_tracks',\n",
        "                    'order',\n",
        "                    'loudness',\n",
        "                    'binary_order']\n",
        "\n",
        "data.drop(columns = columns_to_remove, axis = 1, inplace = True)\n",
        "\n",
        "data\n",
        "\n"
      ]
    },
    {
      "cell_type": "code",
      "execution_count": 3,
      "metadata": {},
      "outputs": [],
      "source": [
        "training_set, test_set, training_labels, test_labels = train_test_split(data, labels, test_size=0.25, random_state=42)\n",
        "\n",
        "num_classes = len(np.unique(training_labels))"
      ]
    },
    {
      "cell_type": "code",
      "execution_count": 4,
      "metadata": {
        "colab": {
          "base_uri": "https://localhost:8080/"
        },
        "id": "bY_9CBuz2QB6",
        "outputId": "4a007a53-8491-44d8-d0ba-94da95d5ca27"
      },
      "outputs": [
        {
          "name": "stdout",
          "output_type": "stream",
          "text": [
            "[1. 0.]\n"
          ]
        }
      ],
      "source": [
        "training_labels_categorical = to_categorical(training_labels)\n",
        "test_labels_categorical = to_categorical(test_labels)\n",
        "print(training_labels_categorical[0])"
      ]
    },
    {
      "cell_type": "code",
      "execution_count": 5,
      "metadata": {
        "id": "nyPiSIJu3EiL"
      },
      "outputs": [
        {
          "name": "stdout",
          "output_type": "stream",
          "text": [
            "Epoch 1/20\n"
          ]
        },
        {
          "ename": "ValueError",
          "evalue": "in user code:\n\n    C:\\Users\\crisp\\AppData\\Roaming\\Python\\Python38\\site-packages\\tensorflow\\python\\keras\\engine\\training.py:855 train_function  *\n        return step_function(self, iterator)\n    C:\\Users\\crisp\\AppData\\Roaming\\Python\\Python38\\site-packages\\tensorflow\\python\\keras\\engine\\training.py:845 step_function  **\n        outputs = model.distribute_strategy.run(run_step, args=(data,))\n    C:\\Users\\crisp\\AppData\\Roaming\\Python\\Python38\\site-packages\\tensorflow\\python\\distribute\\distribute_lib.py:1285 run\n        return self._extended.call_for_each_replica(fn, args=args, kwargs=kwargs)\n    C:\\Users\\crisp\\AppData\\Roaming\\Python\\Python38\\site-packages\\tensorflow\\python\\distribute\\distribute_lib.py:2833 call_for_each_replica\n        return self._call_for_each_replica(fn, args, kwargs)\n    C:\\Users\\crisp\\AppData\\Roaming\\Python\\Python38\\site-packages\\tensorflow\\python\\distribute\\distribute_lib.py:3608 _call_for_each_replica\n        return fn(*args, **kwargs)\n    C:\\Users\\crisp\\AppData\\Roaming\\Python\\Python38\\site-packages\\tensorflow\\python\\keras\\engine\\training.py:838 run_step  **\n        outputs = model.train_step(data)\n    C:\\Users\\crisp\\AppData\\Roaming\\Python\\Python38\\site-packages\\tensorflow\\python\\keras\\engine\\training.py:796 train_step\n        loss = self.compiled_loss(\n    C:\\Users\\crisp\\AppData\\Roaming\\Python\\Python38\\site-packages\\tensorflow\\python\\keras\\engine\\compile_utils.py:204 __call__\n        loss_value = loss_obj(y_t, y_p, sample_weight=sw)\n    C:\\Users\\crisp\\AppData\\Roaming\\Python\\Python38\\site-packages\\tensorflow\\python\\keras\\losses.py:155 __call__\n        losses = call_fn(y_true, y_pred)\n    C:\\Users\\crisp\\AppData\\Roaming\\Python\\Python38\\site-packages\\tensorflow\\python\\keras\\losses.py:259 call  **\n        return ag_fn(y_true, y_pred, **self._fn_kwargs)\n    C:\\Users\\crisp\\AppData\\Roaming\\Python\\Python38\\site-packages\\tensorflow\\python\\util\\dispatch.py:206 wrapper\n        return target(*args, **kwargs)\n    C:\\Users\\crisp\\AppData\\Roaming\\Python\\Python38\\site-packages\\tensorflow\\python\\keras\\losses.py:1643 categorical_crossentropy\n        return backend.categorical_crossentropy(\n    C:\\Users\\crisp\\AppData\\Roaming\\Python\\Python38\\site-packages\\tensorflow\\python\\util\\dispatch.py:206 wrapper\n        return target(*args, **kwargs)\n    C:\\Users\\crisp\\AppData\\Roaming\\Python\\Python38\\site-packages\\tensorflow\\python\\keras\\backend.py:4862 categorical_crossentropy\n        target.shape.assert_is_compatible_with(output.shape)\n    C:\\Users\\crisp\\AppData\\Roaming\\Python\\Python38\\site-packages\\tensorflow\\python\\framework\\tensor_shape.py:1161 assert_is_compatible_with\n        raise ValueError(\"Shapes %s and %s are incompatible\" % (self, other))\n\n    ValueError: Shapes (None, 2) and (None, 338) are incompatible\n",
          "output_type": "error",
          "traceback": [
            "\u001b[1;31m---------------------------------------------------------------------------\u001b[0m",
            "\u001b[1;31mValueError\u001b[0m                                Traceback (most recent call last)",
            "\u001b[1;32m~\\AppData\\Local\\Temp/ipykernel_4428/1483656252.py\u001b[0m in \u001b[0;36m<module>\u001b[1;34m\u001b[0m\n\u001b[0;32m     19\u001b[0m \u001b[0mmodel\u001b[0m\u001b[1;33m.\u001b[0m\u001b[0mcompile\u001b[0m\u001b[1;33m(\u001b[0m\u001b[0mloss\u001b[0m\u001b[1;33m=\u001b[0m\u001b[1;34m'categorical_crossentropy'\u001b[0m\u001b[1;33m,\u001b[0m \u001b[0moptimizer\u001b[0m\u001b[1;33m=\u001b[0m\u001b[0mAdam\u001b[0m\u001b[1;33m(\u001b[0m\u001b[0mlearning_rate\u001b[0m \u001b[1;33m=\u001b[0m \u001b[1;36m0.001\u001b[0m\u001b[1;33m)\u001b[0m\u001b[1;33m,\u001b[0m \u001b[0mmetrics\u001b[0m\u001b[1;33m=\u001b[0m\u001b[1;33m[\u001b[0m\u001b[1;34m'accuracy'\u001b[0m\u001b[1;33m]\u001b[0m\u001b[1;33m)\u001b[0m\u001b[1;33m\u001b[0m\u001b[1;33m\u001b[0m\u001b[0m\n\u001b[0;32m     20\u001b[0m \u001b[1;33m\u001b[0m\u001b[0m\n\u001b[1;32m---> 21\u001b[1;33m \u001b[0mhistory\u001b[0m \u001b[1;33m=\u001b[0m \u001b[0mmodel\u001b[0m\u001b[1;33m.\u001b[0m\u001b[0mfit\u001b[0m\u001b[1;33m(\u001b[0m\u001b[0mtraining_set\u001b[0m\u001b[1;33m,\u001b[0m \u001b[0mtraining_labels_categorical\u001b[0m\u001b[1;33m,\u001b[0m \u001b[0mepochs\u001b[0m\u001b[1;33m=\u001b[0m\u001b[1;36m20\u001b[0m\u001b[1;33m)\u001b[0m\u001b[1;33m\u001b[0m\u001b[1;33m\u001b[0m\u001b[0m\n\u001b[0m",
            "\u001b[1;32m~\\AppData\\Roaming\\Python\\Python38\\site-packages\\tensorflow\\python\\keras\\engine\\training.py\u001b[0m in \u001b[0;36mfit\u001b[1;34m(self, x, y, batch_size, epochs, verbose, callbacks, validation_split, validation_data, shuffle, class_weight, sample_weight, initial_epoch, steps_per_epoch, validation_steps, validation_batch_size, validation_freq, max_queue_size, workers, use_multiprocessing)\u001b[0m\n\u001b[0;32m   1181\u001b[0m                 _r=1):\n\u001b[0;32m   1182\u001b[0m               \u001b[0mcallbacks\u001b[0m\u001b[1;33m.\u001b[0m\u001b[0mon_train_batch_begin\u001b[0m\u001b[1;33m(\u001b[0m\u001b[0mstep\u001b[0m\u001b[1;33m)\u001b[0m\u001b[1;33m\u001b[0m\u001b[1;33m\u001b[0m\u001b[0m\n\u001b[1;32m-> 1183\u001b[1;33m               \u001b[0mtmp_logs\u001b[0m \u001b[1;33m=\u001b[0m \u001b[0mself\u001b[0m\u001b[1;33m.\u001b[0m\u001b[0mtrain_function\u001b[0m\u001b[1;33m(\u001b[0m\u001b[0miterator\u001b[0m\u001b[1;33m)\u001b[0m\u001b[1;33m\u001b[0m\u001b[1;33m\u001b[0m\u001b[0m\n\u001b[0m\u001b[0;32m   1184\u001b[0m               \u001b[1;32mif\u001b[0m \u001b[0mdata_handler\u001b[0m\u001b[1;33m.\u001b[0m\u001b[0mshould_sync\u001b[0m\u001b[1;33m:\u001b[0m\u001b[1;33m\u001b[0m\u001b[1;33m\u001b[0m\u001b[0m\n\u001b[0;32m   1185\u001b[0m                 \u001b[0mcontext\u001b[0m\u001b[1;33m.\u001b[0m\u001b[0masync_wait\u001b[0m\u001b[1;33m(\u001b[0m\u001b[1;33m)\u001b[0m\u001b[1;33m\u001b[0m\u001b[1;33m\u001b[0m\u001b[0m\n",
            "\u001b[1;32m~\\AppData\\Roaming\\Python\\Python38\\site-packages\\tensorflow\\python\\eager\\def_function.py\u001b[0m in \u001b[0;36m__call__\u001b[1;34m(self, *args, **kwds)\u001b[0m\n\u001b[0;32m    887\u001b[0m \u001b[1;33m\u001b[0m\u001b[0m\n\u001b[0;32m    888\u001b[0m       \u001b[1;32mwith\u001b[0m \u001b[0mOptionalXlaContext\u001b[0m\u001b[1;33m(\u001b[0m\u001b[0mself\u001b[0m\u001b[1;33m.\u001b[0m\u001b[0m_jit_compile\u001b[0m\u001b[1;33m)\u001b[0m\u001b[1;33m:\u001b[0m\u001b[1;33m\u001b[0m\u001b[1;33m\u001b[0m\u001b[0m\n\u001b[1;32m--> 889\u001b[1;33m         \u001b[0mresult\u001b[0m \u001b[1;33m=\u001b[0m \u001b[0mself\u001b[0m\u001b[1;33m.\u001b[0m\u001b[0m_call\u001b[0m\u001b[1;33m(\u001b[0m\u001b[1;33m*\u001b[0m\u001b[0margs\u001b[0m\u001b[1;33m,\u001b[0m \u001b[1;33m**\u001b[0m\u001b[0mkwds\u001b[0m\u001b[1;33m)\u001b[0m\u001b[1;33m\u001b[0m\u001b[1;33m\u001b[0m\u001b[0m\n\u001b[0m\u001b[0;32m    890\u001b[0m \u001b[1;33m\u001b[0m\u001b[0m\n\u001b[0;32m    891\u001b[0m       \u001b[0mnew_tracing_count\u001b[0m \u001b[1;33m=\u001b[0m \u001b[0mself\u001b[0m\u001b[1;33m.\u001b[0m\u001b[0mexperimental_get_tracing_count\u001b[0m\u001b[1;33m(\u001b[0m\u001b[1;33m)\u001b[0m\u001b[1;33m\u001b[0m\u001b[1;33m\u001b[0m\u001b[0m\n",
            "\u001b[1;32m~\\AppData\\Roaming\\Python\\Python38\\site-packages\\tensorflow\\python\\eager\\def_function.py\u001b[0m in \u001b[0;36m_call\u001b[1;34m(self, *args, **kwds)\u001b[0m\n\u001b[0;32m    931\u001b[0m       \u001b[1;31m# This is the first call of __call__, so we have to initialize.\u001b[0m\u001b[1;33m\u001b[0m\u001b[1;33m\u001b[0m\u001b[1;33m\u001b[0m\u001b[0m\n\u001b[0;32m    932\u001b[0m       \u001b[0minitializers\u001b[0m \u001b[1;33m=\u001b[0m \u001b[1;33m[\u001b[0m\u001b[1;33m]\u001b[0m\u001b[1;33m\u001b[0m\u001b[1;33m\u001b[0m\u001b[0m\n\u001b[1;32m--> 933\u001b[1;33m       \u001b[0mself\u001b[0m\u001b[1;33m.\u001b[0m\u001b[0m_initialize\u001b[0m\u001b[1;33m(\u001b[0m\u001b[0margs\u001b[0m\u001b[1;33m,\u001b[0m \u001b[0mkwds\u001b[0m\u001b[1;33m,\u001b[0m \u001b[0madd_initializers_to\u001b[0m\u001b[1;33m=\u001b[0m\u001b[0minitializers\u001b[0m\u001b[1;33m)\u001b[0m\u001b[1;33m\u001b[0m\u001b[1;33m\u001b[0m\u001b[0m\n\u001b[0m\u001b[0;32m    934\u001b[0m     \u001b[1;32mfinally\u001b[0m\u001b[1;33m:\u001b[0m\u001b[1;33m\u001b[0m\u001b[1;33m\u001b[0m\u001b[0m\n\u001b[0;32m    935\u001b[0m       \u001b[1;31m# At this point we know that the initialization is complete (or less\u001b[0m\u001b[1;33m\u001b[0m\u001b[1;33m\u001b[0m\u001b[1;33m\u001b[0m\u001b[0m\n",
            "\u001b[1;32m~\\AppData\\Roaming\\Python\\Python38\\site-packages\\tensorflow\\python\\eager\\def_function.py\u001b[0m in \u001b[0;36m_initialize\u001b[1;34m(self, args, kwds, add_initializers_to)\u001b[0m\n\u001b[0;32m    761\u001b[0m     \u001b[0mself\u001b[0m\u001b[1;33m.\u001b[0m\u001b[0m_graph_deleter\u001b[0m \u001b[1;33m=\u001b[0m \u001b[0mFunctionDeleter\u001b[0m\u001b[1;33m(\u001b[0m\u001b[0mself\u001b[0m\u001b[1;33m.\u001b[0m\u001b[0m_lifted_initializer_graph\u001b[0m\u001b[1;33m)\u001b[0m\u001b[1;33m\u001b[0m\u001b[1;33m\u001b[0m\u001b[0m\n\u001b[0;32m    762\u001b[0m     self._concrete_stateful_fn = (\n\u001b[1;32m--> 763\u001b[1;33m         self._stateful_fn._get_concrete_function_internal_garbage_collected(  # pylint: disable=protected-access\n\u001b[0m\u001b[0;32m    764\u001b[0m             *args, **kwds))\n\u001b[0;32m    765\u001b[0m \u001b[1;33m\u001b[0m\u001b[0m\n",
            "\u001b[1;32m~\\AppData\\Roaming\\Python\\Python38\\site-packages\\tensorflow\\python\\eager\\function.py\u001b[0m in \u001b[0;36m_get_concrete_function_internal_garbage_collected\u001b[1;34m(self, *args, **kwargs)\u001b[0m\n\u001b[0;32m   3048\u001b[0m       \u001b[0margs\u001b[0m\u001b[1;33m,\u001b[0m \u001b[0mkwargs\u001b[0m \u001b[1;33m=\u001b[0m \u001b[1;32mNone\u001b[0m\u001b[1;33m,\u001b[0m \u001b[1;32mNone\u001b[0m\u001b[1;33m\u001b[0m\u001b[1;33m\u001b[0m\u001b[0m\n\u001b[0;32m   3049\u001b[0m     \u001b[1;32mwith\u001b[0m \u001b[0mself\u001b[0m\u001b[1;33m.\u001b[0m\u001b[0m_lock\u001b[0m\u001b[1;33m:\u001b[0m\u001b[1;33m\u001b[0m\u001b[1;33m\u001b[0m\u001b[0m\n\u001b[1;32m-> 3050\u001b[1;33m       \u001b[0mgraph_function\u001b[0m\u001b[1;33m,\u001b[0m \u001b[0m_\u001b[0m \u001b[1;33m=\u001b[0m \u001b[0mself\u001b[0m\u001b[1;33m.\u001b[0m\u001b[0m_maybe_define_function\u001b[0m\u001b[1;33m(\u001b[0m\u001b[0margs\u001b[0m\u001b[1;33m,\u001b[0m \u001b[0mkwargs\u001b[0m\u001b[1;33m)\u001b[0m\u001b[1;33m\u001b[0m\u001b[1;33m\u001b[0m\u001b[0m\n\u001b[0m\u001b[0;32m   3051\u001b[0m     \u001b[1;32mreturn\u001b[0m \u001b[0mgraph_function\u001b[0m\u001b[1;33m\u001b[0m\u001b[1;33m\u001b[0m\u001b[0m\n\u001b[0;32m   3052\u001b[0m \u001b[1;33m\u001b[0m\u001b[0m\n",
            "\u001b[1;32m~\\AppData\\Roaming\\Python\\Python38\\site-packages\\tensorflow\\python\\eager\\function.py\u001b[0m in \u001b[0;36m_maybe_define_function\u001b[1;34m(self, args, kwargs)\u001b[0m\n\u001b[0;32m   3442\u001b[0m \u001b[1;33m\u001b[0m\u001b[0m\n\u001b[0;32m   3443\u001b[0m           \u001b[0mself\u001b[0m\u001b[1;33m.\u001b[0m\u001b[0m_function_cache\u001b[0m\u001b[1;33m.\u001b[0m\u001b[0mmissed\u001b[0m\u001b[1;33m.\u001b[0m\u001b[0madd\u001b[0m\u001b[1;33m(\u001b[0m\u001b[0mcall_context_key\u001b[0m\u001b[1;33m)\u001b[0m\u001b[1;33m\u001b[0m\u001b[1;33m\u001b[0m\u001b[0m\n\u001b[1;32m-> 3444\u001b[1;33m           \u001b[0mgraph_function\u001b[0m \u001b[1;33m=\u001b[0m \u001b[0mself\u001b[0m\u001b[1;33m.\u001b[0m\u001b[0m_create_graph_function\u001b[0m\u001b[1;33m(\u001b[0m\u001b[0margs\u001b[0m\u001b[1;33m,\u001b[0m \u001b[0mkwargs\u001b[0m\u001b[1;33m)\u001b[0m\u001b[1;33m\u001b[0m\u001b[1;33m\u001b[0m\u001b[0m\n\u001b[0m\u001b[0;32m   3445\u001b[0m           \u001b[0mself\u001b[0m\u001b[1;33m.\u001b[0m\u001b[0m_function_cache\u001b[0m\u001b[1;33m.\u001b[0m\u001b[0mprimary\u001b[0m\u001b[1;33m[\u001b[0m\u001b[0mcache_key\u001b[0m\u001b[1;33m]\u001b[0m \u001b[1;33m=\u001b[0m \u001b[0mgraph_function\u001b[0m\u001b[1;33m\u001b[0m\u001b[1;33m\u001b[0m\u001b[0m\n\u001b[0;32m   3446\u001b[0m \u001b[1;33m\u001b[0m\u001b[0m\n",
            "\u001b[1;32m~\\AppData\\Roaming\\Python\\Python38\\site-packages\\tensorflow\\python\\eager\\function.py\u001b[0m in \u001b[0;36m_create_graph_function\u001b[1;34m(self, args, kwargs, override_flat_arg_shapes)\u001b[0m\n\u001b[0;32m   3277\u001b[0m     \u001b[0marg_names\u001b[0m \u001b[1;33m=\u001b[0m \u001b[0mbase_arg_names\u001b[0m \u001b[1;33m+\u001b[0m \u001b[0mmissing_arg_names\u001b[0m\u001b[1;33m\u001b[0m\u001b[1;33m\u001b[0m\u001b[0m\n\u001b[0;32m   3278\u001b[0m     graph_function = ConcreteFunction(\n\u001b[1;32m-> 3279\u001b[1;33m         func_graph_module.func_graph_from_py_func(\n\u001b[0m\u001b[0;32m   3280\u001b[0m             \u001b[0mself\u001b[0m\u001b[1;33m.\u001b[0m\u001b[0m_name\u001b[0m\u001b[1;33m,\u001b[0m\u001b[1;33m\u001b[0m\u001b[1;33m\u001b[0m\u001b[0m\n\u001b[0;32m   3281\u001b[0m             \u001b[0mself\u001b[0m\u001b[1;33m.\u001b[0m\u001b[0m_python_function\u001b[0m\u001b[1;33m,\u001b[0m\u001b[1;33m\u001b[0m\u001b[1;33m\u001b[0m\u001b[0m\n",
            "\u001b[1;32m~\\AppData\\Roaming\\Python\\Python38\\site-packages\\tensorflow\\python\\framework\\func_graph.py\u001b[0m in \u001b[0;36mfunc_graph_from_py_func\u001b[1;34m(name, python_func, args, kwargs, signature, func_graph, autograph, autograph_options, add_control_dependencies, arg_names, op_return_value, collections, capture_by_value, override_flat_arg_shapes)\u001b[0m\n\u001b[0;32m    997\u001b[0m         \u001b[0m_\u001b[0m\u001b[1;33m,\u001b[0m \u001b[0moriginal_func\u001b[0m \u001b[1;33m=\u001b[0m \u001b[0mtf_decorator\u001b[0m\u001b[1;33m.\u001b[0m\u001b[0munwrap\u001b[0m\u001b[1;33m(\u001b[0m\u001b[0mpython_func\u001b[0m\u001b[1;33m)\u001b[0m\u001b[1;33m\u001b[0m\u001b[1;33m\u001b[0m\u001b[0m\n\u001b[0;32m    998\u001b[0m \u001b[1;33m\u001b[0m\u001b[0m\n\u001b[1;32m--> 999\u001b[1;33m       \u001b[0mfunc_outputs\u001b[0m \u001b[1;33m=\u001b[0m \u001b[0mpython_func\u001b[0m\u001b[1;33m(\u001b[0m\u001b[1;33m*\u001b[0m\u001b[0mfunc_args\u001b[0m\u001b[1;33m,\u001b[0m \u001b[1;33m**\u001b[0m\u001b[0mfunc_kwargs\u001b[0m\u001b[1;33m)\u001b[0m\u001b[1;33m\u001b[0m\u001b[1;33m\u001b[0m\u001b[0m\n\u001b[0m\u001b[0;32m   1000\u001b[0m \u001b[1;33m\u001b[0m\u001b[0m\n\u001b[0;32m   1001\u001b[0m       \u001b[1;31m# invariant: `func_outputs` contains only Tensors, CompositeTensors,\u001b[0m\u001b[1;33m\u001b[0m\u001b[1;33m\u001b[0m\u001b[1;33m\u001b[0m\u001b[0m\n",
            "\u001b[1;32m~\\AppData\\Roaming\\Python\\Python38\\site-packages\\tensorflow\\python\\eager\\def_function.py\u001b[0m in \u001b[0;36mwrapped_fn\u001b[1;34m(*args, **kwds)\u001b[0m\n\u001b[0;32m    670\u001b[0m         \u001b[1;31m# the function a weak reference to itself to avoid a reference cycle.\u001b[0m\u001b[1;33m\u001b[0m\u001b[1;33m\u001b[0m\u001b[1;33m\u001b[0m\u001b[0m\n\u001b[0;32m    671\u001b[0m         \u001b[1;32mwith\u001b[0m \u001b[0mOptionalXlaContext\u001b[0m\u001b[1;33m(\u001b[0m\u001b[0mcompile_with_xla\u001b[0m\u001b[1;33m)\u001b[0m\u001b[1;33m:\u001b[0m\u001b[1;33m\u001b[0m\u001b[1;33m\u001b[0m\u001b[0m\n\u001b[1;32m--> 672\u001b[1;33m           \u001b[0mout\u001b[0m \u001b[1;33m=\u001b[0m \u001b[0mweak_wrapped_fn\u001b[0m\u001b[1;33m(\u001b[0m\u001b[1;33m)\u001b[0m\u001b[1;33m.\u001b[0m\u001b[0m__wrapped__\u001b[0m\u001b[1;33m(\u001b[0m\u001b[1;33m*\u001b[0m\u001b[0margs\u001b[0m\u001b[1;33m,\u001b[0m \u001b[1;33m**\u001b[0m\u001b[0mkwds\u001b[0m\u001b[1;33m)\u001b[0m\u001b[1;33m\u001b[0m\u001b[1;33m\u001b[0m\u001b[0m\n\u001b[0m\u001b[0;32m    673\u001b[0m         \u001b[1;32mreturn\u001b[0m \u001b[0mout\u001b[0m\u001b[1;33m\u001b[0m\u001b[1;33m\u001b[0m\u001b[0m\n\u001b[0;32m    674\u001b[0m \u001b[1;33m\u001b[0m\u001b[0m\n",
            "\u001b[1;32m~\\AppData\\Roaming\\Python\\Python38\\site-packages\\tensorflow\\python\\framework\\func_graph.py\u001b[0m in \u001b[0;36mwrapper\u001b[1;34m(*args, **kwargs)\u001b[0m\n\u001b[0;32m    984\u001b[0m           \u001b[1;32mexcept\u001b[0m \u001b[0mException\u001b[0m \u001b[1;32mas\u001b[0m \u001b[0me\u001b[0m\u001b[1;33m:\u001b[0m  \u001b[1;31m# pylint:disable=broad-except\u001b[0m\u001b[1;33m\u001b[0m\u001b[1;33m\u001b[0m\u001b[0m\n\u001b[0;32m    985\u001b[0m             \u001b[1;32mif\u001b[0m \u001b[0mhasattr\u001b[0m\u001b[1;33m(\u001b[0m\u001b[0me\u001b[0m\u001b[1;33m,\u001b[0m \u001b[1;34m\"ag_error_metadata\"\u001b[0m\u001b[1;33m)\u001b[0m\u001b[1;33m:\u001b[0m\u001b[1;33m\u001b[0m\u001b[1;33m\u001b[0m\u001b[0m\n\u001b[1;32m--> 986\u001b[1;33m               \u001b[1;32mraise\u001b[0m \u001b[0me\u001b[0m\u001b[1;33m.\u001b[0m\u001b[0mag_error_metadata\u001b[0m\u001b[1;33m.\u001b[0m\u001b[0mto_exception\u001b[0m\u001b[1;33m(\u001b[0m\u001b[0me\u001b[0m\u001b[1;33m)\u001b[0m\u001b[1;33m\u001b[0m\u001b[1;33m\u001b[0m\u001b[0m\n\u001b[0m\u001b[0;32m    987\u001b[0m             \u001b[1;32melse\u001b[0m\u001b[1;33m:\u001b[0m\u001b[1;33m\u001b[0m\u001b[1;33m\u001b[0m\u001b[0m\n\u001b[0;32m    988\u001b[0m               \u001b[1;32mraise\u001b[0m\u001b[1;33m\u001b[0m\u001b[1;33m\u001b[0m\u001b[0m\n",
            "\u001b[1;31mValueError\u001b[0m: in user code:\n\n    C:\\Users\\crisp\\AppData\\Roaming\\Python\\Python38\\site-packages\\tensorflow\\python\\keras\\engine\\training.py:855 train_function  *\n        return step_function(self, iterator)\n    C:\\Users\\crisp\\AppData\\Roaming\\Python\\Python38\\site-packages\\tensorflow\\python\\keras\\engine\\training.py:845 step_function  **\n        outputs = model.distribute_strategy.run(run_step, args=(data,))\n    C:\\Users\\crisp\\AppData\\Roaming\\Python\\Python38\\site-packages\\tensorflow\\python\\distribute\\distribute_lib.py:1285 run\n        return self._extended.call_for_each_replica(fn, args=args, kwargs=kwargs)\n    C:\\Users\\crisp\\AppData\\Roaming\\Python\\Python38\\site-packages\\tensorflow\\python\\distribute\\distribute_lib.py:2833 call_for_each_replica\n        return self._call_for_each_replica(fn, args, kwargs)\n    C:\\Users\\crisp\\AppData\\Roaming\\Python\\Python38\\site-packages\\tensorflow\\python\\distribute\\distribute_lib.py:3608 _call_for_each_replica\n        return fn(*args, **kwargs)\n    C:\\Users\\crisp\\AppData\\Roaming\\Python\\Python38\\site-packages\\tensorflow\\python\\keras\\engine\\training.py:838 run_step  **\n        outputs = model.train_step(data)\n    C:\\Users\\crisp\\AppData\\Roaming\\Python\\Python38\\site-packages\\tensorflow\\python\\keras\\engine\\training.py:796 train_step\n        loss = self.compiled_loss(\n    C:\\Users\\crisp\\AppData\\Roaming\\Python\\Python38\\site-packages\\tensorflow\\python\\keras\\engine\\compile_utils.py:204 __call__\n        loss_value = loss_obj(y_t, y_p, sample_weight=sw)\n    C:\\Users\\crisp\\AppData\\Roaming\\Python\\Python38\\site-packages\\tensorflow\\python\\keras\\losses.py:155 __call__\n        losses = call_fn(y_true, y_pred)\n    C:\\Users\\crisp\\AppData\\Roaming\\Python\\Python38\\site-packages\\tensorflow\\python\\keras\\losses.py:259 call  **\n        return ag_fn(y_true, y_pred, **self._fn_kwargs)\n    C:\\Users\\crisp\\AppData\\Roaming\\Python\\Python38\\site-packages\\tensorflow\\python\\util\\dispatch.py:206 wrapper\n        return target(*args, **kwargs)\n    C:\\Users\\crisp\\AppData\\Roaming\\Python\\Python38\\site-packages\\tensorflow\\python\\keras\\losses.py:1643 categorical_crossentropy\n        return backend.categorical_crossentropy(\n    C:\\Users\\crisp\\AppData\\Roaming\\Python\\Python38\\site-packages\\tensorflow\\python\\util\\dispatch.py:206 wrapper\n        return target(*args, **kwargs)\n    C:\\Users\\crisp\\AppData\\Roaming\\Python\\Python38\\site-packages\\tensorflow\\python\\keras\\backend.py:4862 categorical_crossentropy\n        target.shape.assert_is_compatible_with(output.shape)\n    C:\\Users\\crisp\\AppData\\Roaming\\Python\\Python38\\site-packages\\tensorflow\\python\\framework\\tensor_shape.py:1161 assert_is_compatible_with\n        raise ValueError(\"Shapes %s and %s are incompatible\" % (self, other))\n\n    ValueError: Shapes (None, 2) and (None, 338) are incompatible\n"
          ]
        }
      ],
      "source": [
        "model = Sequential()\n",
        "num_features = training_set.shape[1]\n",
        "model.add(Dense(128, input_dim = num_features, activation='relu'))\n",
        "model.add(Dense(64, activation='relu'))\n",
        "\n",
        "# model.add(Conv1D(filters=32, kernel_size=5, padding='same', activation='relu', input_dim = num_features))\n",
        "# model.add(MaxPooling1D(pool_size=2))\n",
        "\n",
        "# model.add(Conv1D(filters=64, kernel_size=5, padding='same', activation='relu', input_dim = num_features))\n",
        "# model.add(MaxPooling1D(pool_size=2))\n",
        "\n",
        "\n",
        "model.add(Flatten())\n",
        "\n",
        "model.add(Dense(64, activation='relu'))\n",
        "model.add(Dense(32, activation='relu'))\n",
        "model.add(Dense(num_classes, activation='softmax'))\n",
        "\n",
        "model.compile(loss='categorical_crossentropy', optimizer=Adam(learning_rate = 0.001), metrics=['accuracy'])\n",
        "\n",
        "history = model.fit(training_set, training_labels_categorical, epochs=20) "
      ]
    },
    {
      "cell_type": "code",
      "execution_count": null,
      "metadata": {
        "colab": {
          "base_uri": "https://localhost:8080/"
        },
        "id": "HQP3yNEY45yR",
        "outputId": "a851c3f2-cc67-4320-f4c2-2d299aa65c27"
      },
      "outputs": [
        {
          "name": "stdout",
          "output_type": "stream",
          "text": [
            "39/39 [==============================] - 0s 3ms/step - loss: 6.7835 - accuracy: 0.1061\n"
          ]
        }
      ],
      "source": [
        "loss, accuracy = model.evaluate(test_set, test_labels_categorical)"
      ]
    },
    {
      "cell_type": "code",
      "execution_count": null,
      "metadata": {
        "colab": {
          "base_uri": "https://localhost:8080/",
          "height": 296
        },
        "id": "tfWjeMHB5TjF",
        "outputId": "cb63c115-c080-4cd5-ec95-d8ec2ddfcf28"
      },
      "outputs": [
        {
          "data": {
            "text/plain": [
              "Text(0, 0.5, 'loss')"
            ]
          },
          "execution_count": 23,
          "metadata": {},
          "output_type": "execute_result"
        },
        {
          "data": {
            "image/png": "[encoded data removed]",
            "text/plain": [
              "<Figure size 432x288 with 1 Axes>"
            ]
          },
          "metadata": {
            "needs_background": "light"
          },
          "output_type": "display_data"
        }
      ],
      "source": [
        "plt.plot(history.history['loss'])\n",
        "plt.xlabel('epoch')\n",
        "plt.ylabel('loss')"
      ]
    },
    {
      "cell_type": "code",
      "execution_count": null,
      "metadata": {},
      "outputs": [],
      "source": []
    },
    {
      "cell_type": "code",
      "execution_count": 6,
      "metadata": {},
      "outputs": [],
      "source": [
        "X = data.values\n",
        "Y = labels.values"
      ]
    },
    {
      "cell_type": "code",
      "execution_count": 7,
      "metadata": {},
      "outputs": [
        {
          "name": "stdout",
          "output_type": "stream",
          "text": [
            "(3483, 12) (746, 12) (747, 12) (3483,) (746,) (747,)\n"
          ]
        }
      ],
      "source": [
        "from sklearn import preprocessing\n",
        "min_max_scaler = preprocessing.MinMaxScaler()\n",
        "X_scale = min_max_scaler.fit_transform(X)\n",
        "X_scale\n",
        "\n",
        "from sklearn.model_selection import train_test_split\n",
        "X_train, X_val_and_test, Y_train, Y_val_and_test = train_test_split(X_scale, Y, test_size=0.3)\n",
        "X_val, X_test, Y_val, Y_test = train_test_split(X_val_and_test, Y_val_and_test, test_size=0.5)\n",
        "print(X_train.shape, X_val.shape, X_test.shape, Y_train.shape, Y_val.shape, Y_test.shape)\n"
      ]
    },
    {
      "cell_type": "code",
      "execution_count": 8,
      "metadata": {},
      "outputs": [],
      "source": [
        "import tensorflow as tf\n",
        "\n",
        "from tensorflow.keras.models import Sequential\n",
        "from tensorflow.keras.layers import Dense\n",
        "\n",
        "model = Sequential([\n",
        "    Dense(32, activation='relu', input_shape=(12,)),\n",
        "    Dense(32, activation='relu'),\n",
        "    Dense(1, activation='sigmoid'),\n",
        "])\n"
      ]
    },
    {
      "cell_type": "code",
      "execution_count": 9,
      "metadata": {},
      "outputs": [],
      "source": [
        "model.compile(optimizer='sgd',\n",
        "              loss='binary_crossentropy',\n",
        "              metrics=['accuracy'])"
      ]
    },
    {
      "cell_type": "code",
      "execution_count": 11,
      "metadata": {},
      "outputs": [
        {
          "name": "stdout",
          "output_type": "stream",
          "text": [
            "Epoch 1/20\n",
            "109/109 [==============================] - 0s 4ms/step - loss: 0.6925 - accuracy: 0.0385 - val_loss: 0.6929 - val_accuracy: 0.0214\n",
            "Epoch 2/20\n",
            "109/109 [==============================] - 0s 4ms/step - loss: 0.6924 - accuracy: 0.0388 - val_loss: 0.6929 - val_accuracy: 0.0214\n",
            "Epoch 3/20\n",
            "109/109 [==============================] - 0s 4ms/step - loss: 0.6923 - accuracy: 0.0385 - val_loss: 0.6928 - val_accuracy: 0.0228\n",
            "Epoch 4/20\n",
            "109/109 [==============================] - 0s 4ms/step - loss: 0.6922 - accuracy: 0.0396 - val_loss: 0.6927 - val_accuracy: 0.0214\n",
            "Epoch 5/20\n",
            "109/109 [==============================] - 0s 4ms/step - loss: 0.6921 - accuracy: 0.0402 - val_loss: 0.6926 - val_accuracy: 0.0214\n",
            "Epoch 6/20\n",
            "109/109 [==============================] - 1s 5ms/step - loss: 0.6920 - accuracy: 0.0382 - val_loss: 0.6927 - val_accuracy: 0.0241\n",
            "Epoch 7/20\n",
            "109/109 [==============================] - 0s 5ms/step - loss: 0.6920 - accuracy: 0.0385 - val_loss: 0.6927 - val_accuracy: 0.0268\n",
            "Epoch 8/20\n",
            "109/109 [==============================] - 1s 5ms/step - loss: 0.6919 - accuracy: 0.0402 - val_loss: 0.6925 - val_accuracy: 0.0255\n",
            "Epoch 9/20\n",
            "109/109 [==============================] - 1s 5ms/step - loss: 0.6919 - accuracy: 0.0382 - val_loss: 0.6926 - val_accuracy: 0.0268\n",
            "Epoch 10/20\n",
            "109/109 [==============================] - 1s 5ms/step - loss: 0.6919 - accuracy: 0.0413 - val_loss: 0.6925 - val_accuracy: 0.0268\n",
            "Epoch 11/20\n",
            "109/109 [==============================] - 1s 5ms/step - loss: 0.6918 - accuracy: 0.0408 - val_loss: 0.6924 - val_accuracy: 0.0268\n",
            "Epoch 12/20\n",
            "109/109 [==============================] - 1s 5ms/step - loss: 0.6918 - accuracy: 0.0416 - val_loss: 0.6922 - val_accuracy: 0.0214\n",
            "Epoch 13/20\n",
            "109/109 [==============================] - 1s 5ms/step - loss: 0.6917 - accuracy: 0.0388 - val_loss: 0.6922 - val_accuracy: 0.0255\n",
            "Epoch 14/20\n",
            "109/109 [==============================] - 1s 5ms/step - loss: 0.6917 - accuracy: 0.0367 - val_loss: 0.6924 - val_accuracy: 0.0268\n",
            "Epoch 15/20\n",
            "109/109 [==============================] - 1s 6ms/step - loss: 0.6917 - accuracy: 0.0402 - val_loss: 0.6923 - val_accuracy: 0.0255\n",
            "Epoch 16/20\n",
            "109/109 [==============================] - 1s 5ms/step - loss: 0.6916 - accuracy: 0.0422 - val_loss: 0.6921 - val_accuracy: 0.0255\n",
            "Epoch 17/20\n",
            "109/109 [==============================] - 1s 5ms/step - loss: 0.6916 - accuracy: 0.0399 - val_loss: 0.6922 - val_accuracy: 0.0255\n",
            "Epoch 18/20\n",
            "109/109 [==============================] - 1s 5ms/step - loss: 0.6916 - accuracy: 0.0388 - val_loss: 0.6922 - val_accuracy: 0.0268\n",
            "Epoch 19/20\n",
            "109/109 [==============================] - 1s 6ms/step - loss: 0.6915 - accuracy: 0.0405 - val_loss: 0.6921 - val_accuracy: 0.0255\n",
            "Epoch 20/20\n",
            "109/109 [==============================] - 1s 5ms/step - loss: 0.6915 - accuracy: 0.0402 - val_loss: 0.6921 - val_accuracy: 0.0268\n"
          ]
        }
      ],
      "source": [
        "hist = model.fit(X_train, Y_train,\n",
        "          batch_size=32, epochs=20,\n",
        "          validation_data=(X_val, Y_val))"
      ]
    },
    {
      "cell_type": "code",
      "execution_count": 12,
      "metadata": {},
      "outputs": [
        {
          "name": "stdout",
          "output_type": "stream",
          "text": [
            "24/24 [==============================] - 0s 4ms/step - loss: 0.6920 - accuracy: 0.0268\n"
          ]
        },
        {
          "data": {
            "text/plain": [
              "0.026773761957883835"
            ]
          },
          "execution_count": 12,
          "metadata": {},
          "output_type": "execute_result"
        }
      ],
      "source": [
        "model.evaluate(X_test, Y_test)[1]\n"
      ]
    },
    {
      "cell_type": "code",
      "execution_count": 13,
      "metadata": {},
      "outputs": [
        {
          "data": {
            "image/png": "[encoded data removed]",
            "text/plain": [
              "<Figure size 432x288 with 1 Axes>"
            ]
          },
          "metadata": {
            "needs_background": "light"
          },
          "output_type": "display_data"
        }
      ],
      "source": [
        "plt.plot(hist.history['loss'])\n",
        "plt.plot(hist.history['val_loss'])\n",
        "plt.title('Model loss')\n",
        "plt.ylabel('Loss')\n",
        "plt.xlabel('Epoch')\n",
        "plt.legend(['Train', 'Val'], loc='upper right')\n",
        "plt.show()"
      ]
    },
    {
      "cell_type": "code",
      "execution_count": 14,
      "metadata": {},
      "outputs": [
        {
          "name": "stdout",
          "output_type": "stream",
          "text": [
            "Epoch 1/20\n",
            "109/109 [==============================] - 2s 12ms/step - loss: 0.6942 - accuracy: 0.0347 - val_loss: 0.6940 - val_accuracy: 0.0456\n",
            "Epoch 2/20\n",
            "109/109 [==============================] - 1s 10ms/step - loss: 0.6934 - accuracy: 0.0373 - val_loss: 0.6936 - val_accuracy: 0.0469\n",
            "Epoch 3/20\n",
            "109/109 [==============================] - 1s 10ms/step - loss: 0.6929 - accuracy: 0.0411 - val_loss: 0.6927 - val_accuracy: 0.0201\n",
            "Epoch 4/20\n",
            "109/109 [==============================] - 1s 11ms/step - loss: 0.6931 - accuracy: 0.0399 - val_loss: 0.6920 - val_accuracy: 0.0188\n",
            "Epoch 5/20\n",
            "109/109 [==============================] - 1s 10ms/step - loss: 0.6923 - accuracy: 0.0442 - val_loss: 0.6895 - val_accuracy: 0.0241\n",
            "Epoch 6/20\n",
            "109/109 [==============================] - 1s 10ms/step - loss: 0.6918 - accuracy: 0.0347 - val_loss: 0.6917 - val_accuracy: 0.0228\n",
            "Epoch 7/20\n",
            "109/109 [==============================] - 1s 10ms/step - loss: 0.6918 - accuracy: 0.0413 - val_loss: 0.6898 - val_accuracy: 0.0188\n",
            "Epoch 8/20\n",
            "109/109 [==============================] - 1s 10ms/step - loss: 0.6905 - accuracy: 0.0428 - val_loss: 0.6895 - val_accuracy: 0.0295\n",
            "Epoch 9/20\n",
            "109/109 [==============================] - 1s 10ms/step - loss: 0.6897 - accuracy: 0.0445 - val_loss: 0.6882 - val_accuracy: 0.0214\n",
            "Epoch 10/20\n",
            "109/109 [==============================] - 1s 10ms/step - loss: 0.6882 - accuracy: 0.0411 - val_loss: 0.6893 - val_accuracy: 0.0295\n",
            "Epoch 11/20\n",
            "109/109 [==============================] - 2s 14ms/step - loss: 0.6878 - accuracy: 0.0431 - val_loss: 0.6942 - val_accuracy: 0.0389\n",
            "Epoch 12/20\n",
            "109/109 [==============================] - 1s 8ms/step - loss: 0.6870 - accuracy: 0.0422 - val_loss: 0.6885 - val_accuracy: 0.0282\n",
            "Epoch 13/20\n",
            "109/109 [==============================] - 1s 5ms/step - loss: 0.6872 - accuracy: 0.0399 - val_loss: 0.6910 - val_accuracy: 0.0335\n",
            "Epoch 14/20\n",
            "109/109 [==============================] - 1s 5ms/step - loss: 0.6849 - accuracy: 0.0465 - val_loss: 0.6877 - val_accuracy: 0.0295\n",
            "Epoch 15/20\n",
            "109/109 [==============================] - 1s 11ms/step - loss: 0.6833 - accuracy: 0.0465 - val_loss: 0.6911 - val_accuracy: 0.0295\n",
            "Epoch 16/20\n",
            "109/109 [==============================] - 1s 13ms/step - loss: 0.6830 - accuracy: 0.0459 - val_loss: 0.6957 - val_accuracy: 0.0375\n",
            "Epoch 17/20\n",
            "109/109 [==============================] - 1s 9ms/step - loss: 0.6825 - accuracy: 0.0471 - val_loss: 0.6908 - val_accuracy: 0.0322\n",
            "Epoch 18/20\n",
            "109/109 [==============================] - 1s 6ms/step - loss: 0.6804 - accuracy: 0.0462 - val_loss: 0.6882 - val_accuracy: 0.0295\n",
            "Epoch 19/20\n",
            "109/109 [==============================] - 1s 5ms/step - loss: 0.6810 - accuracy: 0.0471 - val_loss: 0.6905 - val_accuracy: 0.0201\n",
            "Epoch 20/20\n",
            "109/109 [==============================] - 1s 5ms/step - loss: 0.6778 - accuracy: 0.0474 - val_loss: 0.6909 - val_accuracy: 0.0295\n"
          ]
        }
      ],
      "source": [
        "model_2 = Sequential([\n",
        "    Dense(1000, activation='relu', input_shape=(12,)),\n",
        "    Dense(1000, activation='relu'),\n",
        "    Dense(1000, activation='relu'),\n",
        "    Dense(1000, activation='relu'),\n",
        "    Dense(1, activation='sigmoid'),\n",
        "])\n",
        "\n",
        "model_2.compile(optimizer='adam',\n",
        "              loss='binary_crossentropy',\n",
        "              metrics=['accuracy'])\n",
        "              \n",
        "hist_2 = model_2.fit(X_train, Y_train,\n",
        "          batch_size=32, epochs=20,\n",
        "          validation_data=(X_val, Y_val))"
      ]
    },
    {
      "cell_type": "code",
      "execution_count": 15,
      "metadata": {},
      "outputs": [
        {
          "name": "stdout",
          "output_type": "stream",
          "text": [
            "Epoch 1/20\n",
            "109/109 [==============================] - 2s 11ms/step - loss: 4.9917 - accuracy: 0.0465 - val_loss: 0.6945 - val_accuracy: 0.0000e+00\n",
            "Epoch 2/20\n",
            "109/109 [==============================] - 2s 14ms/step - loss: 0.6934 - accuracy: 0.0238 - val_loss: 0.6936 - val_accuracy: 0.0469\n",
            "Epoch 3/20\n",
            "109/109 [==============================] - 1s 7ms/step - loss: 0.6932 - accuracy: 0.0566 - val_loss: 0.6930 - val_accuracy: 0.0000e+00\n",
            "Epoch 4/20\n",
            "109/109 [==============================] - 1s 8ms/step - loss: 0.6932 - accuracy: 0.0281 - val_loss: 0.6932 - val_accuracy: 0.0469\n",
            "Epoch 5/20\n",
            "109/109 [==============================] - 1s 8ms/step - loss: 0.6932 - accuracy: 0.0528 - val_loss: 0.6931 - val_accuracy: 0.0000e+00\n",
            "Epoch 6/20\n",
            "109/109 [==============================] - 1s 8ms/step - loss: 0.6932 - accuracy: 0.0422 - val_loss: 0.6932 - val_accuracy: 0.0469\n",
            "Epoch 7/20\n",
            "109/109 [==============================] - 2s 17ms/step - loss: 0.6932 - accuracy: 0.0629 - val_loss: 0.6932 - val_accuracy: 0.0469\n",
            "Epoch 8/20\n",
            "109/109 [==============================] - 2s 17ms/step - loss: 0.6932 - accuracy: 0.0396 - val_loss: 0.6932 - val_accuracy: 0.0469\n",
            "Epoch 9/20\n",
            "109/109 [==============================] - 2s 17ms/step - loss: 0.6932 - accuracy: 0.0629 - val_loss: 0.6933 - val_accuracy: 0.0469\n",
            "Epoch 10/20\n",
            "109/109 [==============================] - 2s 17ms/step - loss: 0.6932 - accuracy: 0.0591 - val_loss: 0.6933 - val_accuracy: 0.0469\n",
            "Epoch 11/20\n",
            "109/109 [==============================] - 2s 18ms/step - loss: 0.6932 - accuracy: 0.0459 - val_loss: 0.6933 - val_accuracy: 0.0469\n",
            "Epoch 12/20\n",
            "109/109 [==============================] - 2s 18ms/step - loss: 0.6932 - accuracy: 0.0629 - val_loss: 0.6933 - val_accuracy: 0.0469\n",
            "Epoch 13/20\n",
            "109/109 [==============================] - 2s 17ms/step - loss: 0.6932 - accuracy: 0.0629 - val_loss: 0.6933 - val_accuracy: 0.0469\n",
            "Epoch 14/20\n",
            "109/109 [==============================] - 2s 18ms/step - loss: 0.6932 - accuracy: 0.0609 - val_loss: 0.6932 - val_accuracy: 0.0469\n",
            "Epoch 15/20\n",
            "109/109 [==============================] - 2s 18ms/step - loss: 0.6932 - accuracy: 0.0629 - val_loss: 0.6933 - val_accuracy: 0.0469\n",
            "Epoch 16/20\n",
            "109/109 [==============================] - 2s 18ms/step - loss: 0.6932 - accuracy: 0.0629 - val_loss: 0.6933 - val_accuracy: 0.0469\n",
            "Epoch 17/20\n",
            "109/109 [==============================] - 2s 17ms/step - loss: 0.6932 - accuracy: 0.0629 - val_loss: 0.6933 - val_accuracy: 0.0469\n",
            "Epoch 18/20\n",
            "109/109 [==============================] - 2s 17ms/step - loss: 0.6932 - accuracy: 0.0411 - val_loss: 0.6933 - val_accuracy: 0.0469\n",
            "Epoch 19/20\n",
            "109/109 [==============================] - 2s 20ms/step - loss: 0.6932 - accuracy: 0.0629 - val_loss: 0.6933 - val_accuracy: 0.0469\n",
            "Epoch 20/20\n",
            "109/109 [==============================] - 2s 21ms/step - loss: 0.6932 - accuracy: 0.0629 - val_loss: 0.6933 - val_accuracy: 0.0469\n"
          ]
        }
      ],
      "source": [
        "from tensorflow.keras.layers import Dropout\n",
        "from tensorflow.keras import regularizers\n",
        "\n",
        "model_3 = Sequential([\n",
        "    Dense(1000, activation='relu', kernel_regularizer=regularizers.l2(0.01), input_shape=(12,)),\n",
        "    Dropout(0.3),\n",
        "    Dense(1000, activation='relu', kernel_regularizer=regularizers.l2(0.01)),\n",
        "    Dropout(0.3),\n",
        "    Dense(1000, activation='relu', kernel_regularizer=regularizers.l2(0.01)),\n",
        "    Dropout(0.3),\n",
        "    Dense(1000, activation='relu', kernel_regularizer=regularizers.l2(0.01)),\n",
        "    Dropout(0.3),\n",
        "    Dense(1, activation='sigmoid', kernel_regularizer=regularizers.l2(0.01)),\n",
        "])\n",
        "\n",
        "model_3.compile(optimizer='adam',\n",
        "              loss='binary_crossentropy',\n",
        "              metrics=['accuracy'])\n",
        "              \n",
        "hist_3 = model_3.fit(X_train, Y_train,\n",
        "          batch_size=32, epochs=20,\n",
        "          validation_data=(X_val, Y_val))"
      ]
    },
    {
      "cell_type": "code",
      "execution_count": null,
      "metadata": {},
      "outputs": [],
      "source": []
    }
  ],
  "metadata": {
    "colab": {
      "authorship_tag": "ABX9TyP5hCxOXwciEMhpBDw9LkHy",
      "include_colab_link": true,
      "name": "TestingDNNs.ipynb",
      "provenance": []
    },
    "kernelspec": {
      "display_name": "Python 3",
      "name": "python3"
    },
    "language_info": {
      "codemirror_mode": {
        "name": "ipython",
        "version": 3
      },
      "file_extension": ".py",
      "mimetype": "text/x-python",
      "name": "python",
      "nbconvert_exporter": "python",
      "pygments_lexer": "ipython3",
      "version": "3.8.2"
    }
  },
  "nbformat": 4,
  "nbformat_minor": 0
}
