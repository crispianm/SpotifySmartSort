{
 "cells": [
  {
   "cell_type": "code",
   "execution_count": 94,
   "metadata": {},
   "outputs": [],
   "source": [
    "from configparser import ConfigParser\n",
    "import spotipy\n",
    "import sys\n",
    "from spotipy.oauth2 import SpotifyClientCredentials\n",
    "import pandas as pd\n",
    "import numpy as np\n",
    "\n",
    "parser = ConfigParser()\n",
    "parser.read('./spotify_credentials.cfg')\n",
    "\n",
    "SPOTIPY_CLIENT_ID = parser.get('spotify', 'SPOTIPY_CLIENT_ID')\n",
    "SPOTIPY_CLIENT_SECRET = parser.get('spotify', 'SPOTIPY_CLIENT_SECRET')\n",
    "\n",
    "sp = spotipy.Spotify(client_credentials_manager=SpotifyClientCredentials(client_id=SPOTIPY_CLIENT_ID, client_secret=SPOTIPY_CLIENT_SECRET))"
   ]
  },
  {
   "cell_type": "code",
   "execution_count": 95,
   "metadata": {},
   "outputs": [
    {
     "data": {
      "text/plain": [
       "['4tZwfgrHOc3mvqYlEYSvVi',\n",
       " '2CIMQHirSU0MQqyYHq0eOx',\n",
       " '6nxWCVXbOlEVRexSbLsTer',\n",
       " '5K4W6rqBFWDnAN6FQUkS6x',\n",
       " '0QWrMNukfcVOmgEU0FEDyD',\n",
       " '4LEiUm1SRbFMgfqnQTwUbQ',\n",
       " '06HL4z0CvFAxyc27GXpf02',\n",
       " '0oeUpvxWsC8bWS6SnpU8b9',\n",
       " '3Qy1IxDSU8SLpUUOfbOpxM',\n",
       " '5cIc3SBFuBLVxJz58W2tU9',\n",
       " '4gzpq5DPGxSnKTe4SA8HAU',\n",
       " '1dWEYMPtNmvSVaDNLgB6NV',\n",
       " '3iOvXCl6edW5Um0fXEBRXy',\n",
       " '26T3LtbuGT1Fu9m0eRq5X3',\n",
       " '0pCNk4D3E2xtszsm6hMsWr',\n",
       " '3YQKmKGau1PzlVlkL1iodx',\n",
       " '3AA28KZvwAUcZuOKwyblJQ',\n",
       " '2cFrymmkijnjDg9SS92EPM',\n",
       " '7pXu47GoqSYRajmBCjxdD6',\n",
       " '4yvcSjfu4PC0CYQyLy4wSq']"
      ]
     },
     "execution_count": 95,
     "metadata": {},
     "output_type": "execute_result"
    }
   ],
   "source": [
    "input = pd.read_csv('artists.csv', header = None)\n",
    "artist_ids = []\n",
    "for link in input[0]:\n",
    "    \n",
    "    artist_ids.append(link[32:54])\n",
    "\n",
    "artist_ids"
   ]
  },
  {
   "cell_type": "code",
   "execution_count": 96,
   "metadata": {},
   "outputs": [
    {
     "data": {
      "text/plain": [
       "326"
      ]
     },
     "execution_count": 96,
     "metadata": {},
     "output_type": "execute_result"
    }
   ],
   "source": [
    "albums = []\n",
    "album_track_ids = []\n",
    "\n",
    "for artist_id in artist_ids:\n",
    "    \n",
    "    album_ids = []\n",
    "    artist_uri = 'spotify:artist:' + artist_id\n",
    "\n",
    "    # Add album ids to album_ids list\n",
    "    results = sp.artist_albums(artist_uri, album_type='album')\n",
    "    albums.extend(results['items'])\n",
    "    while results['next']:\n",
    "        results = sp.next(results)\n",
    "        albums.extend(results['items'])\n",
    "    for album in albums:\n",
    "        album_ids.append(album['id'])\n",
    "\n",
    "all_tracks = []\n",
    "for id in album_ids:\n",
    "\n",
    "    track_ids = []\n",
    "\n",
    "    results = sp.album_tracks(id)\n",
    "    tracks = results['items']\n",
    "    all_tracks.extend(tracks)\n",
    "    for track in tracks:\n",
    "        track_ids.append(track['id'])\n",
    "\n",
    "    album_track_ids.append(track_ids)\n",
    "\n",
    "\n",
    "assert len(album_track_ids) == len(albums)\n",
    "\n",
    "len(albums)"
   ]
  },
  {
   "cell_type": "code",
   "execution_count": 97,
   "metadata": {},
   "outputs": [],
   "source": [
    "# all_tracks[0]['track_number']\n"
   ]
  },
  {
   "cell_type": "code",
   "execution_count": 98,
   "metadata": {},
   "outputs": [
    {
     "ename": "TypeError",
     "evalue": "object of type 'NoneType' has no len()",
     "output_type": "error",
     "traceback": [
      "\u001b[1;31m---------------------------------------------------------------------------\u001b[0m",
      "\u001b[1;31mTypeError\u001b[0m                                 Traceback (most recent call last)",
      "\u001b[1;32m~\\AppData\\Local\\Temp/ipykernel_16720/476321574.py\u001b[0m in \u001b[0;36m<module>\u001b[1;34m\u001b[0m\n\u001b[0;32m     32\u001b[0m         \u001b[0mresults\u001b[0m \u001b[1;33m=\u001b[0m \u001b[0msp\u001b[0m\u001b[1;33m.\u001b[0m\u001b[0maudio_features\u001b[0m\u001b[1;33m(\u001b[0m\u001b[0mtrack\u001b[0m\u001b[1;33m)\u001b[0m\u001b[1;33m\u001b[0m\u001b[1;33m\u001b[0m\u001b[0m\n\u001b[0;32m     33\u001b[0m         \u001b[0mfeatures\u001b[0m \u001b[1;33m=\u001b[0m \u001b[0mresults\u001b[0m\u001b[1;33m[\u001b[0m\u001b[1;36m0\u001b[0m\u001b[1;33m]\u001b[0m\u001b[1;33m\u001b[0m\u001b[1;33m\u001b[0m\u001b[0m\n\u001b[1;32m---> 34\u001b[1;33m         \u001b[0mfeatures_matrix\u001b[0m \u001b[1;33m=\u001b[0m \u001b[0mpd\u001b[0m\u001b[1;33m.\u001b[0m\u001b[0mDataFrame\u001b[0m\u001b[1;33m.\u001b[0m\u001b[0mfrom_records\u001b[0m\u001b[1;33m(\u001b[0m\u001b[0mfeatures\u001b[0m\u001b[1;33m,\u001b[0m \u001b[0mindex\u001b[0m\u001b[1;33m=\u001b[0m\u001b[1;33m[\u001b[0m\u001b[1;36m0\u001b[0m\u001b[1;33m]\u001b[0m\u001b[1;33m)\u001b[0m\u001b[1;33m\u001b[0m\u001b[1;33m\u001b[0m\u001b[0m\n\u001b[0m\u001b[0;32m     35\u001b[0m \u001b[1;33m\u001b[0m\u001b[0m\n\u001b[0;32m     36\u001b[0m         \u001b[1;31m# Remove unneeded columns\u001b[0m\u001b[1;33m\u001b[0m\u001b[1;33m\u001b[0m\u001b[1;33m\u001b[0m\u001b[0m\n",
      "\u001b[1;32m~\\AppData\\Local\\Programs\\Python\\Python38\\lib\\site-packages\\pandas\\core\\frame.py\u001b[0m in \u001b[0;36mfrom_records\u001b[1;34m(cls, data, index, exclude, columns, coerce_float, nrows)\u001b[0m\n\u001b[0;32m   2071\u001b[0m             \u001b[0marr_columns\u001b[0m \u001b[1;33m=\u001b[0m \u001b[0mcolumns\u001b[0m\u001b[1;33m\u001b[0m\u001b[1;33m\u001b[0m\u001b[0m\n\u001b[0;32m   2072\u001b[0m         \u001b[1;32melse\u001b[0m\u001b[1;33m:\u001b[0m\u001b[1;33m\u001b[0m\u001b[1;33m\u001b[0m\u001b[0m\n\u001b[1;32m-> 2073\u001b[1;33m             \u001b[0marrays\u001b[0m\u001b[1;33m,\u001b[0m \u001b[0marr_columns\u001b[0m \u001b[1;33m=\u001b[0m \u001b[0mto_arrays\u001b[0m\u001b[1;33m(\u001b[0m\u001b[0mdata\u001b[0m\u001b[1;33m,\u001b[0m \u001b[0mcolumns\u001b[0m\u001b[1;33m)\u001b[0m\u001b[1;33m\u001b[0m\u001b[1;33m\u001b[0m\u001b[0m\n\u001b[0m\u001b[0;32m   2074\u001b[0m             \u001b[1;32mif\u001b[0m \u001b[0mcoerce_float\u001b[0m\u001b[1;33m:\u001b[0m\u001b[1;33m\u001b[0m\u001b[1;33m\u001b[0m\u001b[0m\n\u001b[0;32m   2075\u001b[0m                 \u001b[1;32mfor\u001b[0m \u001b[0mi\u001b[0m\u001b[1;33m,\u001b[0m \u001b[0marr\u001b[0m \u001b[1;32min\u001b[0m \u001b[0menumerate\u001b[0m\u001b[1;33m(\u001b[0m\u001b[0marrays\u001b[0m\u001b[1;33m)\u001b[0m\u001b[1;33m:\u001b[0m\u001b[1;33m\u001b[0m\u001b[1;33m\u001b[0m\u001b[0m\n",
      "\u001b[1;32m~\\AppData\\Local\\Programs\\Python\\Python38\\lib\\site-packages\\pandas\\core\\internals\\construction.py\u001b[0m in \u001b[0;36mto_arrays\u001b[1;34m(data, columns, dtype)\u001b[0m\n\u001b[0;32m    756\u001b[0m         \u001b[1;32mreturn\u001b[0m \u001b[0marrays\u001b[0m\u001b[1;33m,\u001b[0m \u001b[0mcolumns\u001b[0m\u001b[1;33m\u001b[0m\u001b[1;33m\u001b[0m\u001b[0m\n\u001b[0;32m    757\u001b[0m \u001b[1;33m\u001b[0m\u001b[0m\n\u001b[1;32m--> 758\u001b[1;33m     \u001b[1;32mif\u001b[0m \u001b[1;32mnot\u001b[0m \u001b[0mlen\u001b[0m\u001b[1;33m(\u001b[0m\u001b[0mdata\u001b[0m\u001b[1;33m)\u001b[0m\u001b[1;33m:\u001b[0m\u001b[1;33m\u001b[0m\u001b[1;33m\u001b[0m\u001b[0m\n\u001b[0m\u001b[0;32m    759\u001b[0m         \u001b[1;32mif\u001b[0m \u001b[0misinstance\u001b[0m\u001b[1;33m(\u001b[0m\u001b[0mdata\u001b[0m\u001b[1;33m,\u001b[0m \u001b[0mnp\u001b[0m\u001b[1;33m.\u001b[0m\u001b[0mndarray\u001b[0m\u001b[1;33m)\u001b[0m\u001b[1;33m:\u001b[0m\u001b[1;33m\u001b[0m\u001b[1;33m\u001b[0m\u001b[0m\n\u001b[0;32m    760\u001b[0m             \u001b[1;32mif\u001b[0m \u001b[0mdata\u001b[0m\u001b[1;33m.\u001b[0m\u001b[0mdtype\u001b[0m\u001b[1;33m.\u001b[0m\u001b[0mnames\u001b[0m \u001b[1;32mis\u001b[0m \u001b[1;32mnot\u001b[0m \u001b[1;32mNone\u001b[0m\u001b[1;33m:\u001b[0m\u001b[1;33m\u001b[0m\u001b[1;33m\u001b[0m\u001b[0m\n",
      "\u001b[1;31mTypeError\u001b[0m: object of type 'NoneType' has no len()"
     ]
    }
   ],
   "source": [
    "columns_to_remove = ['analysis_url', 'type', 'uri', 'track_href']\n",
    "headings = ['danceability',\n",
    "'energy',\n",
    "'key',\n",
    "'loudness',\n",
    "'mode',\n",
    "'speechiness',\n",
    "'acousticness',\n",
    "'instrumentalness',\n",
    "'liveness',\n",
    "'valence',\n",
    "'tempo',\n",
    "'id',\n",
    "'duration_ms',\n",
    "'time_signature',\n",
    "'track_title',\n",
    "'album_title',\n",
    "'album_artist',\n",
    "'track_number',\n",
    "'total_tracks']\n",
    "data = pd.DataFrame(columns=headings)\n",
    "\n",
    "# Create DataFrames of features from track ids\n",
    "i = 0\n",
    "j = 0\n",
    "for album in album_track_ids:\n",
    "    \n",
    "    length = len(album)\n",
    "    \n",
    "    \n",
    "    for track in album:\n",
    "        results = sp.audio_features(track)\n",
    "        if results[0]: \n",
    "            features = results[0]\n",
    "        features_matrix = pd.DataFrame.from_records(features, index=[0])\n",
    "        \n",
    "        # Remove unneeded columns\n",
    "        features_matrix.drop(columns = columns_to_remove, axis = 1, inplace = True)\n",
    "        # print(features_matrix)\n",
    "\n",
    "        # Add track title\n",
    "        track_title = all_tracks[j]['name']\n",
    "        features_matrix['track_title'] = track_title\n",
    "        # Add album title\n",
    "        album_title = albums[i]['name']\n",
    "        features_matrix['album_title'] = album_title\n",
    "        # Add artist name\n",
    "        name = albums[i]['artists'][0]['name']\n",
    "        features_matrix['album_artist'] = name\n",
    "\n",
    "        # Add track number and total tracks\n",
    "        features_matrix['track_number'] = all_tracks[j]['track_number']\n",
    "        features_matrix['total_tracks'] = length\n",
    "\n",
    "        # Add album as a row to the data df\n",
    "        # print(features_matrix,'\\n')\n",
    "        # print(data)\n",
    "        data = data.append(features_matrix)\n",
    "\n",
    "        j += 1\n",
    "\n",
    "    i += 1\n",
    "\n",
    "# Remove duplicates\n",
    "data.drop_duplicates(subset=['track_number', 'album_title', 'album_artist'])"
   ]
  },
  {
   "cell_type": "code",
   "execution_count": 1,
   "metadata": {},
   "outputs": [
    {
     "ename": "NameError",
     "evalue": "name 'data' is not defined",
     "output_type": "error",
     "traceback": [
      "\u001b[1;31m---------------------------------------------------------------------------\u001b[0m",
      "\u001b[1;31mNameError\u001b[0m                                 Traceback (most recent call last)",
      "\u001b[1;32mc:\\Users\\crisp\\Desktop\\AI\\group-project-18\\api_test.ipynb Cell 6'\u001b[0m in \u001b[0;36m<module>\u001b[1;34m\u001b[0m\n\u001b[1;32m----> <a href='vscode-notebook-cell:/c%3A/Users/crisp/Desktop/AI/group-project-18/api_test.ipynb#ch0000005?line=0'>1</a>\u001b[0m data[\u001b[39m'\u001b[39m\u001b[39morder\u001b[39m\u001b[39m'\u001b[39m] \u001b[39m=\u001b[39m data[\u001b[39m'\u001b[39m\u001b[39mtrack_number\u001b[39m\u001b[39m'\u001b[39m]\u001b[39m/\u001b[39mdata[\u001b[39m'\u001b[39m\u001b[39mtotal_tracks\u001b[39m\u001b[39m'\u001b[39m]\n\u001b[0;32m      <a href='vscode-notebook-cell:/c%3A/Users/crisp/Desktop/AI/group-project-18/api_test.ipynb#ch0000005?line=2'>3</a>\u001b[0m data\u001b[39m.\u001b[39mto_csv(\u001b[39m'\u001b[39m\u001b[39m./data/data.csv\u001b[39m\u001b[39m'\u001b[39m)\n\u001b[0;32m      <a href='vscode-notebook-cell:/c%3A/Users/crisp/Desktop/AI/group-project-18/api_test.ipynb#ch0000005?line=3'>4</a>\u001b[0m data\n",
      "\u001b[1;31mNameError\u001b[0m: name 'data' is not defined"
     ]
    }
   ],
   "source": [
    "data['order'] = data['track_number']/data['total_tracks']\n",
    "\n",
    "data.to_csv('./data/data.csv')\n",
    "data"
   ]
  },
  {
   "cell_type": "code",
   "execution_count": null,
   "metadata": {},
   "outputs": [
    {
     "data": {
      "text/plain": [
       "[{'danceability': 0.26,\n",
       "  'energy': 0.99,\n",
       "  'key': 7,\n",
       "  'loudness': -3.498,\n",
       "  'mode': 1,\n",
       "  'speechiness': 0.128,\n",
       "  'acousticness': 0.00202,\n",
       "  'instrumentalness': 0.00416,\n",
       "  'liveness': 0.779,\n",
       "  'valence': 0.0885,\n",
       "  'tempo': 128.29,\n",
       "  'type': 'audio_features',\n",
       "  'id': '2RpXUwCytDFqZSHl6kIquB',\n",
       "  'uri': 'spotify:track:2RpXUwCytDFqZSHl6kIquB',\n",
       "  'track_href': 'https://api.spotify.com/v1/tracks/2RpXUwCytDFqZSHl6kIquB',\n",
       "  'analysis_url': 'https://api.spotify.com/v1/audio-analysis/2RpXUwCytDFqZSHl6kIquB',\n",
       "  'duration_ms': 349733,\n",
       "  'time_signature': 4}]"
      ]
     },
     "execution_count": 91,
     "metadata": {},
     "output_type": "execute_result"
    }
   ],
   "source": [
    "# Live\n",
    "sp.audio_features('2RpXUwCytDFqZSHl6kIquB')"
   ]
  },
  {
   "cell_type": "code",
   "execution_count": null,
   "metadata": {},
   "outputs": [
    {
     "data": {
      "text/plain": [
       "[{'danceability': 0.46,\n",
       "  'energy': 0.922,\n",
       "  'key': 2,\n",
       "  'loudness': -7.388,\n",
       "  'mode': 1,\n",
       "  'speechiness': 0.264,\n",
       "  'acousticness': 0.0449,\n",
       "  'instrumentalness': 0.000252,\n",
       "  'liveness': 0.34,\n",
       "  'valence': 0.328,\n",
       "  'tempo': 119.961,\n",
       "  'type': 'audio_features',\n",
       "  'id': '0xzhryP1AoHUazYdJ5rj3B',\n",
       "  'uri': 'spotify:track:0xzhryP1AoHUazYdJ5rj3B',\n",
       "  'track_href': 'https://api.spotify.com/v1/tracks/0xzhryP1AoHUazYdJ5rj3B',\n",
       "  'analysis_url': 'https://api.spotify.com/v1/audio-analysis/0xzhryP1AoHUazYdJ5rj3B',\n",
       "  'duration_ms': 311027,\n",
       "  'time_signature': 4}]"
      ]
     },
     "execution_count": 92,
     "metadata": {},
     "output_type": "execute_result"
    }
   ],
   "source": [
    "# Remastered\n",
    "sp.audio_features('0xzhryP1AoHUazYdJ5rj3B')"
   ]
  },
  {
   "cell_type": "code",
   "execution_count": null,
   "metadata": {},
   "outputs": [
    {
     "data": {
      "text/plain": [
       "[{'danceability': 0.472,\n",
       "  'energy': 0.859,\n",
       "  'key': 2,\n",
       "  'loudness': -11.866,\n",
       "  'mode': 1,\n",
       "  'speechiness': 0.181,\n",
       "  'acousticness': 0.0793,\n",
       "  'instrumentalness': 0.000202,\n",
       "  'liveness': 0.645,\n",
       "  'valence': 0.322,\n",
       "  'tempo': 119.989,\n",
       "  'type': 'audio_features',\n",
       "  'id': '4BB3Itr3YETOKFURnC28Ld',\n",
       "  'uri': 'spotify:track:4BB3Itr3YETOKFURnC28Ld',\n",
       "  'track_href': 'https://api.spotify.com/v1/tracks/4BB3Itr3YETOKFURnC28Ld',\n",
       "  'analysis_url': 'https://api.spotify.com/v1/audio-analysis/4BB3Itr3YETOKFURnC28Ld',\n",
       "  'duration_ms': 310667,\n",
       "  'time_signature': 4}]"
      ]
     },
     "execution_count": 93,
     "metadata": {},
     "output_type": "execute_result"
    }
   ],
   "source": [
    "# Non-remastered (original)\n",
    "sp.audio_features('4BB3Itr3YETOKFURnC28Ld')"
   ]
  },
  {
   "cell_type": "code",
   "execution_count": null,
   "metadata": {},
   "outputs": [],
   "source": []
  }
 ],
 "metadata": {
  "interpreter": {
   "hash": "5ce67bb6f49e5a3a5e8242f865d588f7cfc783cd45e0a7fc178d0bf7c5dca7df"
  },
  "kernelspec": {
   "display_name": "Python 3.9.10 ('AI_general')",
   "language": "python",
   "name": "python3"
  },
  "language_info": {
   "codemirror_mode": {
    "name": "ipython",
    "version": 3
   },
   "file_extension": ".py",
   "mimetype": "text/x-python",
   "name": "python",
   "nbconvert_exporter": "python",
   "pygments_lexer": "ipython3",
   "version": "3.9.10"
  },
  "orig_nbformat": 4
 },
 "nbformat": 4,
 "nbformat_minor": 2
}
