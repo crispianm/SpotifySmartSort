{
 "cells": [
  {
   "cell_type": "code",
   "execution_count": 2,
   "metadata": {},
   "outputs": [],
   "source": [
    "import requests\n",
    "from oauthlib.oauth2 import BackendApplicationClient\n",
    "from requests_oauthlib import OAuth2Session\n",
    "\n",
    "client_id = 'db18963a66234a64a1038be650ec234d'\n",
    "client_secret = 'fbbc842960094f07a0b4f0168a700604'\n",
    "redirect_uri = 'http://localhost:8888/callback'"
   ]
  },
  {
   "cell_type": "code",
   "execution_count": 3,
   "metadata": {},
   "outputs": [
    {
     "name": "stdout",
     "output_type": "stream",
     "text": [
      "{'access_token': 'BQDViI-1OArKvqQlvMtH9Rb5Mkn3YE5XO-lxIFWD_Mw-Ba9mQXdSWPXEcLW3ZiJ_nL_XBbMSfMbKRT93Rd8', 'token_type': 'Bearer', 'expires_in': 3600, 'expires_at': 1644338409.2220767}\n"
     ]
    }
   ],
   "source": [
    "client = BackendApplicationClient(client_id=client_id)\n",
    "oauth = OAuth2Session(client=client)\n",
    "token = oauth.fetch_token(token_url='https://accounts.spotify.com/api/token', client_id=client_id, client_secret=client_secret)\n",
    "\n",
    "print(token)"
   ]
  },
  {
   "cell_type": "code",
   "execution_count": 4,
   "metadata": {},
   "outputs": [
    {
     "name": "stdout",
     "output_type": "stream",
     "text": [
      "<Response [200]>\n",
      "{'album': {'album_type': 'single', 'artists': [{'external_urls': {'spotify': 'https://open.spotify.com/artist/5HxKnkQbaDADLFl2ZOAKqk'}, 'href': 'https://api.spotify.com/v1/artists/5HxKnkQbaDADLFl2ZOAKqk', 'id': '5HxKnkQbaDADLFl2ZOAKqk', 'name': 'Patrik Pietschmann', 'type': 'artist', 'uri': 'spotify:artist:5HxKnkQbaDADLFl2ZOAKqk'}], 'available_markets': ['AD', 'AE', 'AG', 'AL', 'AM', 'AO', 'AR', 'AT', 'AU', 'AZ', 'BA', 'BB', 'BD', 'BE', 'BF', 'BG', 'BH', 'BI', 'BJ', 'BN', 'BO', 'BR', 'BS', 'BT', 'BW', 'BY', 'BZ', 'CA', 'CD', 'CG', 'CH', 'CI', 'CL', 'CM', 'CO', 'CR', 'CV', 'CW', 'CY', 'CZ', 'DE', 'DJ', 'DK', 'DM', 'DO', 'DZ', 'EC', 'EE', 'EG', 'ES', 'FI', 'FJ', 'FM', 'FR', 'GA', 'GB', 'GD', 'GE', 'GH', 'GM', 'GN', 'GQ', 'GR', 'GT', 'GW', 'GY', 'HK', 'HN', 'HR', 'HT', 'HU', 'ID', 'IE', 'IL', 'IN', 'IQ', 'IS', 'IT', 'JM', 'JO', 'JP', 'KE', 'KG', 'KH', 'KI', 'KM', 'KN', 'KR', 'KW', 'KZ', 'LA', 'LB', 'LC', 'LI', 'LK', 'LR', 'LS', 'LT', 'LU', 'LV', 'LY', 'MA', 'MC', 'MD', 'ME', 'MG', 'MH', 'MK', 'ML', 'MN', 'MO', 'MR', 'MT', 'MU', 'MV', 'MW', 'MX', 'MY', 'MZ', 'NA', 'NE', 'NG', 'NI', 'NL', 'NO', 'NP', 'NR', 'NZ', 'OM', 'PA', 'PE', 'PG', 'PH', 'PK', 'PL', 'PS', 'PT', 'PW', 'PY', 'QA', 'RO', 'RS', 'RU', 'RW', 'SA', 'SB', 'SC', 'SE', 'SG', 'SI', 'SK', 'SL', 'SM', 'SN', 'SR', 'ST', 'SV', 'SZ', 'TD', 'TG', 'TH', 'TJ', 'TL', 'TN', 'TO', 'TR', 'TT', 'TV', 'TW', 'TZ', 'UA', 'UG', 'US', 'UY', 'UZ', 'VC', 'VE', 'VN', 'VU', 'WS', 'XK', 'ZA', 'ZM', 'ZW'], 'external_urls': {'spotify': 'https://open.spotify.com/album/5gK9CQUo45b7QXGa2bmlee'}, 'href': 'https://api.spotify.com/v1/albums/5gK9CQUo45b7QXGa2bmlee', 'id': '5gK9CQUo45b7QXGa2bmlee', 'images': [{'height': 640, 'url': 'https://i.scdn.co/image/ab67616d0000b2737e6c515819fc09d782cc99ef', 'width': 640}, {'height': 300, 'url': 'https://i.scdn.co/image/ab67616d00001e027e6c515819fc09d782cc99ef', 'width': 300}, {'height': 64, 'url': 'https://i.scdn.co/image/ab67616d000048517e6c515819fc09d782cc99ef', 'width': 64}], 'name': 'Heart of Courage (Piano Version)', 'release_date': '2019-12-11', 'release_date_precision': 'day', 'total_tracks': 1, 'type': 'album', 'uri': 'spotify:album:5gK9CQUo45b7QXGa2bmlee'}, 'artists': [{'external_urls': {'spotify': 'https://open.spotify.com/artist/5HxKnkQbaDADLFl2ZOAKqk'}, 'href': 'https://api.spotify.com/v1/artists/5HxKnkQbaDADLFl2ZOAKqk', 'id': '5HxKnkQbaDADLFl2ZOAKqk', 'name': 'Patrik Pietschmann', 'type': 'artist', 'uri': 'spotify:artist:5HxKnkQbaDADLFl2ZOAKqk'}], 'available_markets': ['AD', 'AE', 'AG', 'AL', 'AM', 'AO', 'AR', 'AT', 'AU', 'AZ', 'BA', 'BB', 'BD', 'BE', 'BF', 'BG', 'BH', 'BI', 'BJ', 'BN', 'BO', 'BR', 'BS', 'BT', 'BW', 'BY', 'BZ', 'CA', 'CD', 'CG', 'CH', 'CI', 'CL', 'CM', 'CO', 'CR', 'CV', 'CW', 'CY', 'CZ', 'DE', 'DJ', 'DK', 'DM', 'DO', 'DZ', 'EC', 'EE', 'EG', 'ES', 'FI', 'FJ', 'FM', 'FR', 'GA', 'GB', 'GD', 'GE', 'GH', 'GM', 'GN', 'GQ', 'GR', 'GT', 'GW', 'GY', 'HK', 'HN', 'HR', 'HT', 'HU', 'ID', 'IE', 'IL', 'IN', 'IQ', 'IS', 'IT', 'JM', 'JO', 'JP', 'KE', 'KG', 'KH', 'KI', 'KM', 'KN', 'KR', 'KW', 'KZ', 'LA', 'LB', 'LC', 'LI', 'LK', 'LR', 'LS', 'LT', 'LU', 'LV', 'LY', 'MA', 'MC', 'MD', 'ME', 'MG', 'MH', 'MK', 'ML', 'MN', 'MO', 'MR', 'MT', 'MU', 'MV', 'MW', 'MX', 'MY', 'MZ', 'NA', 'NE', 'NG', 'NI', 'NL', 'NO', 'NP', 'NR', 'NZ', 'OM', 'PA', 'PE', 'PG', 'PH', 'PK', 'PL', 'PS', 'PT', 'PW', 'PY', 'QA', 'RO', 'RS', 'RU', 'RW', 'SA', 'SB', 'SC', 'SE', 'SG', 'SI', 'SK', 'SL', 'SM', 'SN', 'SR', 'ST', 'SV', 'SZ', 'TD', 'TG', 'TH', 'TJ', 'TL', 'TN', 'TO', 'TR', 'TT', 'TV', 'TW', 'TZ', 'UA', 'UG', 'US', 'UY', 'UZ', 'VC', 'VE', 'VN', 'VU', 'WS', 'XK', 'ZA', 'ZM', 'ZW'], 'disc_number': 1, 'duration_ms': 199775, 'explicit': False, 'external_ids': {'isrc': 'QZK6P1933485'}, 'external_urls': {'spotify': 'https://open.spotify.com/track/2gZ0PQd5J4iCjRrftwL5ov'}, 'href': 'https://api.spotify.com/v1/tracks/2gZ0PQd5J4iCjRrftwL5ov', 'id': '2gZ0PQd5J4iCjRrftwL5ov', 'is_local': False, 'name': 'Heart of Courage - Piano Version', 'popularity': 37, 'preview_url': 'https://p.scdn.co/mp3-preview/6b4edce37957bff43782d3c38a7a3953d1c23bed?cid=db18963a66234a64a1038be650ec234d', 'track_number': 1, 'type': 'track', 'uri': 'spotify:track:2gZ0PQd5J4iCjRrftwL5ov'}\n"
     ]
    }
   ],
   "source": [
    "### Gets a specific track from the API\n",
    "\n",
    "track = requests.get('https://api.spotify.com/v1/tracks/2gZ0PQd5J4iCjRrftwL5ov',\n",
    "    headers={'Authorization' : 'Bearer ' + token['access_token']})\n",
    "\n",
    "print(track)\n",
    "print(track.json())"
   ]
  },
  {
   "cell_type": "code",
   "execution_count": 5,
   "metadata": {},
   "outputs": [
    {
     "name": "stdout",
     "output_type": "stream",
     "text": [
      "{'audio_features': [{'danceability': 0.631, 'energy': 0.242, 'key': 1, 'loudness': -19.038, 'mode': 1, 'speechiness': 0.0457, 'acousticness': 0.969, 'instrumentalness': 0.93, 'liveness': 0.103, 'valence': 0.0782, 'tempo': 134.677, 'type': 'audio_features', 'id': '2gZ0PQd5J4iCjRrftwL5ov', 'uri': 'spotify:track:2gZ0PQd5J4iCjRrftwL5ov', 'track_href': 'https://api.spotify.com/v1/tracks/2gZ0PQd5J4iCjRrftwL5ov', 'analysis_url': 'https://api.spotify.com/v1/audio-analysis/2gZ0PQd5J4iCjRrftwL5ov', 'duration_ms': 199776, 'time_signature': 4}]}\n",
      "0.631\n"
     ]
    }
   ],
   "source": [
    "### Gets audio features information of a specific track from the API\n",
    "\n",
    "features = requests.get('https://api.spotify.com/v1/audio-features',\n",
    "    headers={'Authorization' : 'Bearer ' + token['access_token']},\n",
    "    params={'ids' : '2gZ0PQd5J4iCjRrftwL5ov'})\n",
    "\n",
    "features = features.json()\n",
    "print(features)\n",
    "print(features['audio_features'][0]['danceability'])"
   ]
  },
  {
   "cell_type": "code",
   "execution_count": 6,
   "metadata": {},
   "outputs": [],
   "source": [
    "### Doesn't work, gets the current user's profile from the API\n",
    "\n",
    "# top = requests.get('https://api.spotify.com/v1/me', #/top/tracks', \n",
    "#         headers={'Authorization' : 'Bearer ' + token['access_token']})\n",
    "\n",
    "# top = top.json()\n",
    "# print(top)"
   ]
  },
  {
   "cell_type": "code",
   "execution_count": 7,
   "metadata": {},
   "outputs": [
    {
     "name": "stdout",
     "output_type": "stream",
     "text": [
      "Sheet Music Boss\n",
      "Two Steps from Hell\n",
      "Matt Redman\n"
     ]
    }
   ],
   "source": [
    "### Gets a set of three albums from the API\n",
    "\n",
    "albums = requests.get('https://api.spotify.com/v1/albums',\n",
    "    headers={'Authorization' : 'Bearer ' + token['access_token']},\n",
    "    params={'ids' : '5upt712ovrgK86j7tFBnvy,4y7T04fej3MJ8tAe2FeKD5,70kDwid3oC52MDbnRxWydm'})\n",
    "\n",
    "albums = albums.json()\n",
    "\n",
    "for i in range(3):\n",
    "    print(albums['albums'][i]['artists'][0]['name'])"
   ]
  },
  {
   "cell_type": "code",
   "execution_count": 8,
   "metadata": {},
   "outputs": [
    {
     "name": "stdout",
     "output_type": "stream",
     "text": [
      "{'artists': [{'external_urls': {'spotify': 'https://open.spotify.com/artist/3637OEmwj1q0HinT4YIx5f'}, 'href': 'https://api.spotify.com/v1/artists/3637OEmwj1q0HinT4YIx5f', 'id': '3637OEmwj1q0HinT4YIx5f', 'name': 'Sheet Music Boss', 'type': 'artist', 'uri': 'spotify:artist:3637OEmwj1q0HinT4YIx5f'}], 'available_markets': ['AD', 'AE', 'AG', 'AL', 'AM', 'AO', 'AR', 'AT', 'AU', 'AZ', 'BA', 'BB', 'BD', 'BE', 'BF', 'BG', 'BH', 'BI', 'BJ', 'BN', 'BO', 'BR', 'BS', 'BT', 'BW', 'BY', 'BZ', 'CA', 'CD', 'CG', 'CH', 'CI', 'CL', 'CM', 'CO', 'CR', 'CV', 'CW', 'CY', 'CZ', 'DE', 'DJ', 'DK', 'DM', 'DO', 'DZ', 'EC', 'EE', 'EG', 'ES', 'FI', 'FJ', 'FM', 'FR', 'GA', 'GB', 'GD', 'GE', 'GH', 'GM', 'GN', 'GQ', 'GR', 'GT', 'GW', 'GY', 'HK', 'HN', 'HR', 'HT', 'HU', 'ID', 'IE', 'IL', 'IN', 'IQ', 'IS', 'IT', 'JM', 'JO', 'JP', 'KE', 'KG', 'KH', 'KI', 'KM', 'KN', 'KR', 'KW', 'KZ', 'LA', 'LB', 'LC', 'LI', 'LK', 'LR', 'LS', 'LT', 'LU', 'LV', 'LY', 'MA', 'MC', 'MD', 'ME', 'MG', 'MH', 'MK', 'ML', 'MN', 'MO', 'MR', 'MT', 'MU', 'MV', 'MW', 'MX', 'MY', 'MZ', 'NA', 'NE', 'NG', 'NI', 'NL', 'NO', 'NP', 'NR', 'NZ', 'OM', 'PA', 'PE', 'PG', 'PH', 'PK', 'PL', 'PS', 'PT', 'PW', 'PY', 'QA', 'RO', 'RS', 'RU', 'RW', 'SA', 'SB', 'SC', 'SE', 'SG', 'SI', 'SK', 'SL', 'SM', 'SN', 'SR', 'ST', 'SV', 'SZ', 'TD', 'TG', 'TH', 'TJ', 'TL', 'TN', 'TO', 'TR', 'TT', 'TV', 'TW', 'TZ', 'UA', 'UG', 'US', 'UY', 'UZ', 'VC', 'VE', 'VN', 'VU', 'WS', 'XK', 'ZA', 'ZM', 'ZW'], 'disc_number': 1, 'duration_ms': 167157, 'explicit': False, 'external_urls': {'spotify': 'https://open.spotify.com/track/4A2Un06wgzZmijYZqUow9u'}, 'href': 'https://api.spotify.com/v1/tracks/4A2Un06wgzZmijYZqUow9u', 'id': '4A2Un06wgzZmijYZqUow9u', 'is_local': False, 'name': 'Megalovania but It Gets Harder and Harder', 'preview_url': 'https://p.scdn.co/mp3-preview/642db61a868f002d4c6a3df836bb84ecfeeba856?cid=db18963a66234a64a1038be650ec234d', 'track_number': 1, 'type': 'track', 'uri': 'spotify:track:4A2Un06wgzZmijYZqUow9u'}\n"
     ]
    }
   ],
   "source": [
    "### Just for testing endpoint responses\n",
    "\n",
    "print(albums['albums'][0]['tracks']['items'][0])\n",
    "# print(albums['albums'][0]['tracks']['items'][0]['id'])"
   ]
  },
  {
   "cell_type": "code",
   "execution_count": 9,
   "metadata": {},
   "outputs": [
    {
     "name": "stdout",
     "output_type": "stream",
     "text": [
      "Megalovania but It Gets Harder and Harder\n",
      "0.491\n",
      "The Creativity Song\n",
      "0.761\n",
      "Dragostea Din Tei (Numa Numa)\n",
      "0.689\n",
      "Nyan Cat\n",
      "0.496\n",
      "Astronomia (Coffin Dance)\n",
      "0.677\n",
      "Ievan Polkka (Leekspin)\n",
      "0.743\n",
      "Through the Fire and the Flames\n",
      "0.492\n",
      "Fichtl's Lied\n",
      "0.482\n",
      "Thomas the Tank Engine Theme\n",
      "0.802\n",
      "Gary Come Home (From Spongebob Squarepants)\n",
      "0.723\n",
      "Ocean Man (From Spongebob Squarepants)\n",
      "0.676\n",
      "September\n",
      "0.62\n",
      "Baby I'm Yours (Ladies and Gentlemen, We Got Him)\n",
      "0.697\n",
      "Shadilay (The P.E.P.E Song)\n",
      "0.711\n",
      "The Muffin Song (From Asdfmovie)\n",
      "0.701\n",
      "Robocopyright\n",
      "0.572\n",
      "130 Moon Men (Vsauce Intro)\n",
      "0.475\n",
      "Leck Mich im... (Mozart's Rudest Song!)\n",
      "0.65\n",
      "Baby Shark\n",
      "0.786\n",
      "The Titanic Song but it's So Bad You'll Puke\n",
      "0.722\n",
      "If Coffin Dance Was Jazz\n",
      "0.697\n",
      "Soldier of Dance\n",
      "0.645\n",
      "Wonderwall\n",
      "0.405\n",
      "Roundabout (To Be Continued)\n",
      "0.403\n",
      "None Shall Live\n",
      "0.465\n",
      "Stormkeeper\n",
      "0.354\n",
      "Victory\n",
      "0.503\n",
      "Wolf King\n",
      "0.102\n",
      "Rise Above\n",
      "0.304\n",
      "Spellcaster\n",
      "0.116\n",
      "Never Back Down\n",
      "0.545\n",
      "Red Tower\n",
      "0.266\n",
      "Cannon In D Minor\n",
      "0.475\n",
      "Blackout\n",
      "0.255\n",
      "Stronger Faster Braver\n",
      "0.43\n",
      "Battleborne\n",
      "0.242\n",
      "Last Of The Light\n",
      "0.421\n",
      "Ultraground\n",
      "0.383\n",
      "Release Me\n",
      "0.377\n",
      "Freedom Ship\n",
      "0.315\n",
      "Amaria\n",
      "0.467\n",
      "Flight Of The Silverbird\n",
      "0.415\n",
      "Outpost\n",
      "0.305\n",
      "Unforgiven\n",
      "0.456\n",
      "Across The Blood Water\n",
      "0.156\n",
      "No Honor In Blood\n",
      "0.657\n",
      "Sariel\n",
      "0.359\n",
      "Star Sky\n",
      "0.443\n",
      "Battleborne - Instrumental\n",
      "0.214\n",
      "Star Sky - Instrumental\n",
      "0.479\n",
      "10,000 Reasons (Bless The Lord) [Radio Version] - Radio Version/Live\n",
      "0.459\n",
      "Our God - New Recording\n",
      "0.487\n",
      "Better Is One Day\n",
      "0.471\n",
      "You Never Let Go\n",
      "0.219\n",
      "Never Once\n",
      "0.482\n",
      "Love So High\n",
      "0.393\n",
      "You Alone Can Rescue\n",
      "0.147\n",
      "The Heart Of Worship\n",
      "0.507\n",
      "Blessed Be Your Name\n",
      "0.443\n",
      "Lord, Let Your Glory Fall\n",
      "0.401\n",
      "Nothing But The Blood - Live\n",
      "0.42\n",
      "The Father's Song\n",
      "0.435\n",
      "Once Again\n",
      "0.425\n",
      "Dancing Generation - Live\n",
      "0.388\n",
      "Twenty Seven Million\n",
      "0.669\n",
      "[['Megalovania but It Gets Harder and Harder', 'The Creativity Song', 'Dragostea Din Tei (Numa Numa)', 'Nyan Cat', 'Astronomia (Coffin Dance)', 'Ievan Polkka (Leekspin)', 'Through the Fire and the Flames', \"Fichtl's Lied\", 'Thomas the Tank Engine Theme', 'Gary Come Home (From Spongebob Squarepants)', 'Ocean Man (From Spongebob Squarepants)', 'September', \"Baby I'm Yours (Ladies and Gentlemen, We Got Him)\", 'Shadilay (The P.E.P.E Song)', 'The Muffin Song (From Asdfmovie)', 'Robocopyright', '130 Moon Men (Vsauce Intro)', \"Leck Mich im... (Mozart's Rudest Song!)\", 'Baby Shark', \"The Titanic Song but it's So Bad You'll Puke\", 'If Coffin Dance Was Jazz', 'Soldier of Dance', 'Wonderwall', 'Roundabout (To Be Continued)', 'None Shall Live', 'Stormkeeper', 'Victory', 'Wolf King', 'Rise Above', 'Spellcaster', 'Never Back Down', 'Red Tower', 'Cannon In D Minor', 'Blackout', 'Stronger Faster Braver', 'Battleborne', 'Last Of The Light', 'Ultraground', 'Release Me', 'Freedom Ship', 'Amaria', 'Flight Of The Silverbird', 'Outpost', 'Unforgiven', 'Across The Blood Water', 'No Honor In Blood', 'Sariel', 'Star Sky', 'Battleborne - Instrumental', 'Star Sky - Instrumental', '10,000 Reasons (Bless The Lord) [Radio Version] - Radio Version/Live', 'Our God - New Recording', 'Better Is One Day', 'You Never Let Go', 'Never Once', 'Love So High', 'You Alone Can Rescue', 'The Heart Of Worship', 'Blessed Be Your Name', 'Lord, Let Your Glory Fall', 'Nothing But The Blood - Live', \"The Father's Song\", 'Once Again', 'Dancing Generation - Live', 'Twenty Seven Million'], [0.491, 0.761, 0.689, 0.496, 0.677, 0.743, 0.492, 0.482, 0.802, 0.723, 0.676, 0.62, 0.697, 0.711, 0.701, 0.572, 0.475, 0.65, 0.786, 0.722, 0.697, 0.645, 0.405, 0.403, 0.465, 0.354, 0.503, 0.102, 0.304, 0.116, 0.545, 0.266, 0.475, 0.255, 0.43, 0.242, 0.421, 0.383, 0.377, 0.315, 0.467, 0.415, 0.305, 0.456, 0.156, 0.657, 0.359, 0.443, 0.214, 0.479, 0.459, 0.487, 0.471, 0.219, 0.482, 0.393, 0.147, 0.507, 0.443, 0.401, 0.42, 0.435, 0.425, 0.388, 0.669]]\n"
     ]
    }
   ],
   "source": [
    "### Dataset get request for specified albums\n",
    "\n",
    "names = []\n",
    "danceabilities = []\n",
    "\n",
    "for i in range(3):\n",
    "    for j in range(albums['albums'][i]['total_tracks']):\n",
    "\n",
    "        names.append(albums['albums'][i]['tracks']['items'][j]['name'])\n",
    "        print(albums['albums'][i]['tracks']['items'][j]['name'])\n",
    "\n",
    "        features = requests.get('https://api.spotify.com/v1/audio-features',\n",
    "            headers={'Authorization' : 'Bearer ' + token['access_token']},\n",
    "            params={'ids' : albums['albums'][i]['tracks']['items'][j]['id']})\n",
    "        features = features.json()\n",
    "\n",
    "        danceabilities.append(features['audio_features'][0]['danceability'])\n",
    "        print(features['audio_features'][0]['danceability'])\n",
    "\n",
    "dataset = [names, danceabilities]\n",
    "print(dataset) #Or whatever data output we want here"
   ]
  },
  {
   "cell_type": "code",
   "execution_count": 10,
   "metadata": {},
   "outputs": [
    {
     "name": "stdout",
     "output_type": "stream",
     "text": [
      "Battlecry\n",
      "4y7T04fej3MJ8tAe2FeKD5\n"
     ]
    }
   ],
   "source": [
    "### Return searched album\n",
    "\n",
    "searchTerm = 'battlecry'\n",
    "\n",
    "search = requests.get('https://api.spotify.com/v1/search',\n",
    "    headers={'Authorization' : 'Bearer '+ token['access_token']},\n",
    "    params={'q' : searchTerm, 'type' : 'album', 'limit' : 1})\n",
    "search = search.json()\n",
    "\n",
    "print(search['albums']['items'][0]['name'])\n",
    "print(search['albums']['items'][0]['id'])"
   ]
  },
  {
   "cell_type": "code",
   "execution_count": 11,
   "metadata": {},
   "outputs": [
    {
     "name": "stdout",
     "output_type": "stream",
     "text": [
      "None Shall Live\n",
      "0.465\n",
      "Stormkeeper\n",
      "0.354\n",
      "Victory\n",
      "0.503\n",
      "Wolf King\n",
      "0.102\n",
      "Rise Above\n",
      "0.304\n",
      "Spellcaster\n",
      "0.116\n",
      "Never Back Down\n",
      "0.545\n",
      "Red Tower\n",
      "0.266\n",
      "Cannon In D Minor\n",
      "0.475\n",
      "Blackout\n",
      "0.255\n",
      "Stronger Faster Braver\n",
      "0.43\n",
      "Battleborne\n",
      "0.242\n",
      "Last Of The Light\n",
      "0.421\n",
      "Ultraground\n",
      "0.383\n",
      "Release Me\n",
      "0.377\n",
      "Freedom Ship\n",
      "0.315\n",
      "Amaria\n",
      "0.467\n",
      "Flight Of The Silverbird\n",
      "0.415\n",
      "Outpost\n",
      "0.305\n",
      "Unforgiven\n",
      "0.456\n",
      "Across The Blood Water\n",
      "0.156\n",
      "No Honor In Blood\n",
      "0.657\n",
      "Sariel\n",
      "0.359\n",
      "Star Sky\n",
      "0.443\n",
      "Battleborne - Instrumental\n",
      "0.214\n",
      "Star Sky - Instrumental\n",
      "0.479\n"
     ]
    }
   ],
   "source": [
    "### Get searched album, return dataset of track danceabilities\n",
    "\n",
    "searchTerm = 'battlecry'\n",
    "\n",
    "search = requests.get('https://api.spotify.com/v1/search',\n",
    "    headers={'Authorization' : 'Bearer '+ token['access_token']},\n",
    "    params={'q' : searchTerm, 'type' : 'album', 'limit' : 1})\n",
    "search = search.json()\n",
    "\n",
    "albums = requests.get('https://api.spotify.com/v1/albums',\n",
    "    headers={'Authorization' : 'Bearer ' + token['access_token']},\n",
    "    params={'ids' : search['albums']['items'][0]['id']})\n",
    "albums = albums.json()\n",
    "\n",
    "names = []\n",
    "danceabilities = []\n",
    "\n",
    "for i in range(1):\n",
    "    for j in range(albums['albums'][i]['total_tracks']):\n",
    "\n",
    "        names.append(albums['albums'][i]['tracks']['items'][j]['name'])\n",
    "        print(albums['albums'][i]['tracks']['items'][j]['name'])\n",
    "\n",
    "        features = requests.get('https://api.spotify.com/v1/audio-features',\n",
    "            headers={'Authorization' : 'Bearer ' + token['access_token']},\n",
    "            params={'ids' : albums['albums'][i]['tracks']['items'][j]['id']})\n",
    "        features = features.json()\n",
    "\n",
    "        danceabilities.append(features['audio_features'][0]['danceability'])\n",
    "        print(features['audio_features'][0]['danceability'])\n",
    "\n",
    "dataset = [names, danceabilities]\n",
    "#print(dataset) #Or whatever data output we want here"
   ]
  }
 ],
 "metadata": {
  "interpreter": {
   "hash": "2be5faf79681da6f2a61fdfdd5405d65d042280f7fba6178067603e3a2925119"
  },
  "kernelspec": {
   "display_name": "Python 3.10.2 64-bit",
   "language": "python",
   "name": "python3"
  },
  "language_info": {
   "codemirror_mode": {
    "name": "ipython",
    "version": 3
   },
   "file_extension": ".py",
   "mimetype": "text/x-python",
   "name": "python",
   "nbconvert_exporter": "python",
   "pygments_lexer": "ipython3",
   "version": "3.8.8"
  },
  "orig_nbformat": 4
 },
 "nbformat": 4,
 "nbformat_minor": 2
}
