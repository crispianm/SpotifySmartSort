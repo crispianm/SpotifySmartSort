{
  "cells": [
    {
      "cell_type": "markdown",
      "metadata": {
        "colab_type": "text",
        "id": "view-in-github"
      },
      "source": [
        "<a href=\"https://colab.research.google.com/github/crispianm/MDM3-UKCRIC/blob/main/TestingDNNs.ipynb\" target=\"_parent\"><img src=\"https://colab.research.google.com/assets/colab-badge.svg\" alt=\"Open In Colab\"/></a>"
      ]
    },
    {
      "cell_type": "code",
      "execution_count": 2,
      "metadata": {
        "id": "gifiwVRpyh-g"
      },
      "outputs": [],
      "source": [
        "import numpy as np\n",
        "import matplotlib.pyplot as plt\n",
        "from tensorflow.keras.models import Sequential\n",
        "from tensorflow.keras.layers import Dense, Conv1D, MaxPooling1D, Flatten\n",
        "from tensorflow.keras.optimizers import SGD, Adam\n",
        "from tensorflow.keras.utils import to_categorical\n",
        "import pandas as pd\n",
        "import os \n",
        "import sys\n",
        "from sklearn.model_selection import train_test_split"
      ]
    },
    {
      "cell_type": "code",
      "execution_count": 12,
      "metadata": {
        "colab": {
          "base_uri": "https://localhost:8080/"
        },
        "id": "613JO7erysnn",
        "outputId": "d4f5797c-100d-4265-dbf9-2db9c6782ac4"
      },
      "outputs": [
        {
          "name": "stdout",
          "output_type": "stream",
          "text": [
            "(10672, 14)\n",
            "[ 2.03499434e-03  2.72754272e-03  9.53857600e-03 -6.65941870e-03\n",
            "  4.68976818e+00  5.39893309e-01  7.38245507e-06  3.31322619e-03\n",
            "  2.03241884e-03  9.58688133e-05  9.58688133e-05]\n",
            "4\n"
          ]
        }
      ],
      "source": [
        "#file = open('SingleSidedAmplitudeSpectrum_labelled.csv')\n",
        "#file = open('LabelledMatrixTimeDomain.csv')\n",
        "\n",
        "data = pd.read_csv(\"./data.csv\")\n",
        "\n",
        "training_set, test_set, training_labels, test_labels = train_test_split(data[:,3:], data[:,0], test_size=0.25, random_state=42)\n",
        "\n",
        "print(data.shape)\n",
        "# training_set = data[0:1991,3:]\n",
        "# test_set = data[1992:2845,3:]\n",
        "print(training_set[1,:])\n",
        "# training_labels = data[0:1991,0]\n",
        "# test_labels = data[1992:2845,0]\n",
        "num_classes = len(np.unique(training_labels))\n",
        "print(num_classes)"
      ]
    },
    {
      "cell_type": "code",
      "execution_count": 13,
      "metadata": {
        "colab": {
          "base_uri": "https://localhost:8080/"
        },
        "id": "bY_9CBuz2QB6",
        "outputId": "4a007a53-8491-44d8-d0ba-94da95d5ca27"
      },
      "outputs": [
        {
          "name": "stdout",
          "output_type": "stream",
          "text": [
            "[1. 0. 0. 0.]\n"
          ]
        }
      ],
      "source": [
        "training_labels_categorical = to_categorical(training_labels)\n",
        "test_labels_categorical = to_categorical(test_labels)\n",
        "print(training_labels_categorical[0])"
      ]
    },
    {
      "cell_type": "code",
      "execution_count": 22,
      "metadata": {
        "id": "nyPiSIJu3EiL"
      },
      "outputs": [
        {
          "name": "stdout",
          "output_type": "stream",
          "text": [
            "Epoch 1/20\n",
            "224/224 [==============================] - 1s 4ms/step - loss: 0.7293 - accuracy: 0.7253\n",
            "Epoch 2/20\n",
            "224/224 [==============================] - 1s 4ms/step - loss: 0.5795 - accuracy: 0.7594\n",
            "Epoch 3/20\n",
            "224/224 [==============================] - 1s 3ms/step - loss: 0.5499 - accuracy: 0.7698\n",
            "Epoch 4/20\n",
            "224/224 [==============================] - 1s 3ms/step - loss: 0.5303 - accuracy: 0.7848\n",
            "Epoch 5/20\n",
            "224/224 [==============================] - 1s 4ms/step - loss: 0.5148 - accuracy: 0.7971\n",
            "Epoch 6/20\n",
            "224/224 [==============================] - 1s 4ms/step - loss: 0.5036 - accuracy: 0.8025\n",
            "Epoch 7/20\n",
            "224/224 [==============================] - 1s 3ms/step - loss: 0.4999 - accuracy: 0.8063\n",
            "Epoch 8/20\n",
            "224/224 [==============================] - 1s 4ms/step - loss: 0.4971 - accuracy: 0.8062\n",
            "Epoch 9/20\n",
            "224/224 [==============================] - 1s 4ms/step - loss: 0.4931 - accuracy: 0.8041\n",
            "Epoch 10/20\n",
            "224/224 [==============================] - 1s 4ms/step - loss: 0.4943 - accuracy: 0.8064\n",
            "Epoch 11/20\n",
            "224/224 [==============================] - 1s 3ms/step - loss: 0.4955 - accuracy: 0.8024\n",
            "Epoch 12/20\n",
            "224/224 [==============================] - 1s 3ms/step - loss: 0.4902 - accuracy: 0.8085\n",
            "Epoch 13/20\n",
            "224/224 [==============================] - 1s 3ms/step - loss: 0.4925 - accuracy: 0.8103\n",
            "Epoch 14/20\n",
            "224/224 [==============================] - 1s 3ms/step - loss: 0.4908 - accuracy: 0.8108: 0s - loss: 0.4897 - accu\n",
            "Epoch 15/20\n",
            "224/224 [==============================] - 1s 4ms/step - loss: 0.4942 - accuracy: 0.8063\n",
            "Epoch 16/20\n",
            "224/224 [==============================] - 1s 4ms/step - loss: 0.4918 - accuracy: 0.8092: 0s - los\n",
            "Epoch 17/20\n",
            "224/224 [==============================] - 1s 4ms/step - loss: 0.4891 - accuracy: 0.8143\n",
            "Epoch 18/20\n",
            "224/224 [==============================] - 1s 4ms/step - loss: 0.4918 - accuracy: 0.8090\n",
            "Epoch 19/20\n",
            "224/224 [==============================] - 1s 3ms/step - loss: 0.4903 - accuracy: 0.8071\n",
            "Epoch 20/20\n",
            "224/224 [==============================] - 1s 3ms/step - loss: 0.4889 - accuracy: 0.8098\n"
          ]
        }
      ],
      "source": [
        "model = Sequential()\n",
        "num_features = training_set.shape[1]\n",
        "model.add(Dense(128, input_dim = num_features, activation='relu'))\n",
        "model.add(Dense(64, activation='relu'))\n",
        "\n",
        "# model.add(Conv1D(filters=32, kernel_size=5, padding='same', activation='relu', input_dim = num_features))\n",
        "# model.add(MaxPooling1D(pool_size=2))\n",
        "\n",
        "# model.add(Conv1D(filters=64, kernel_size=5, padding='same', activation='relu', input_dim = num_features))\n",
        "# model.add(MaxPooling1D(pool_size=2))\n",
        "\n",
        "\n",
        "model.add(Flatten())\n",
        "\n",
        "model.add(Dense(64, activation='relu'))\n",
        "model.add(Dense(32, activation='relu'))\n",
        "model.add(Dense(num_classes, activation='softmax'))\n",
        "\n",
        "model.compile(loss='categorical_crossentropy', optimizer=Adam(learning_rate = 0.001), metrics=['accuracy'])\n",
        "\n",
        "history = model.fit(training_set, training_labels_categorical, epochs=20) "
      ]
    },
    {
      "cell_type": "code",
      "execution_count": 23,
      "metadata": {
        "colab": {
          "base_uri": "https://localhost:8080/"
        },
        "id": "HQP3yNEY45yR",
        "outputId": "a851c3f2-cc67-4320-f4c2-2d299aa65c27"
      },
      "outputs": [
        {
          "name": "stdout",
          "output_type": "stream",
          "text": [
            "111/111 [==============================] - 0s 3ms/step - loss: 0.5374 - accuracy: 0.7817\n"
          ]
        }
      ],
      "source": [
        "loss, accuracy = model.evaluate(test_set, test_labels_categorical)"
      ]
    },
    {
      "cell_type": "code",
      "execution_count": 24,
      "metadata": {
        "colab": {
          "base_uri": "https://localhost:8080/",
          "height": 296
        },
        "id": "tfWjeMHB5TjF",
        "outputId": "cb63c115-c080-4cd5-ec95-d8ec2ddfcf28"
      },
      "outputs": [
        {
          "data": {
            "text/plain": [
              "Text(0, 0.5, 'loss')"
            ]
          },
          "execution_count": 24,
          "metadata": {},
          "output_type": "execute_result"
        },
        {
          "data": {
            "image/png": "[encoded data removed]",
            "text/plain": [
              "<Figure size 432x288 with 1 Axes>"
            ]
          },
          "metadata": {
            "needs_background": "light"
          },
          "output_type": "display_data"
        }
      ],
      "source": [
        "plt.plot(history.history['loss'])\n",
        "plt.xlabel('epoch')\n",
        "plt.ylabel('loss')"
      ]
    },
    {
      "cell_type": "code",
      "execution_count": null,
      "metadata": {},
      "outputs": [],
      "source": []
    },
    {
      "cell_type": "code",
      "execution_count": null,
      "metadata": {},
      "outputs": [],
      "source": []
    }
  ],
  "metadata": {
    "colab": {
      "authorship_tag": "ABX9TyP5hCxOXwciEMhpBDw9LkHy",
      "include_colab_link": true,
      "name": "TestingDNNs.ipynb",
      "provenance": []
    },
    "kernelspec": {
      "display_name": "Python 3",
      "name": "python3"
    },
    "language_info": {
      "codemirror_mode": {
        "name": "ipython",
        "version": 3
      },
      "file_extension": ".py",
      "mimetype": "text/x-python",
      "name": "python",
      "nbconvert_exporter": "python",
      "pygments_lexer": "ipython3",
      "version": "3.8.7"
    }
  },
  "nbformat": 4,
  "nbformat_minor": 0
}
